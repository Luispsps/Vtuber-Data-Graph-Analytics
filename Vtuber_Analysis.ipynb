{
  "cells": [
    {
      "cell_type": "markdown",
      "metadata": {
        "id": "D5cjllNMwSDr"
      },
      "source": [
        "# **VTuber 1B: Superchats Analysis**\n",
        "\n",
        "VTuber 1B is a large-scale dataset designed for academic research, containing over a billion live chats, superchats (donations), and moderation events (such as bans and deletions) from virtual YouTubers' live streams. Our analysis will focus specifically on superchats during the month of March 2022. The goal of this research is to explore key patterns and trends within the data and address several research questions related to viewer interactions, donations, and moderation in the VTuber community.\n",
        "\n",
        "The link to the dataset is here: https://www.kaggle.com/datasets/uetchy/vtuber-livechat?resource=download&select=superchats_2021-03.parquet"
      ]
    },
    {
      "cell_type": "markdown",
      "metadata": {
        "id": "t6IXlJMnKbTu"
      },
      "source": [
        "# Loading and Curing Data"
      ]
    },
    {
      "cell_type": "code",
      "execution_count": null,
      "metadata": {
        "colab": {
          "base_uri": "https://localhost:8080/"
        },
        "id": "WTxjA_Zs8EZ5",
        "outputId": "2a3ca4e2-54d8-4b30-aa5c-948f2d4d0a69"
      },
      "outputs": [
        {
          "name": "stdout",
          "output_type": "stream",
          "text": [
            "Requirement already satisfied: currencyconverter in /usr/local/lib/python3.10/dist-packages (0.18)\n"
          ]
        }
      ],
      "source": [
        "#comment\n",
        "# Importing necessary libraries\n",
        "\n",
        "import pandas as pd  # For handling data\n",
        "from glob import iglob  # To find files matching a pattern\n",
        "import networkx as nx  # For creating and analyzing graphs\n",
        "import matplotlib.pyplot as plt  # For plotting\n",
        "import numpy as np  # For numerical calculations\n",
        "import math  # For math operations\n",
        "from datetime import datetime  # For working with dates and times\n",
        "from datetime import date\n",
        "from networkx.algorithms import community\n",
        "import itertools\n",
        "\n",
        "# Install the CurrencyConverter library if not already installed\n",
        "!pip install currencyconverter\n",
        "\n",
        "# Import the currency converter and set it up\n",
        "from currency_converter import CurrencyConverter\n",
        "from currency_converter import RateNotFoundError\n",
        "currencyConverter = CurrencyConverter(fallback_on_missing_rate=True)  # Uses closest rates if needed"
      ]
    },
    {
      "cell_type": "code",
      "execution_count": null,
      "metadata": {
        "colab": {
          "base_uri": "https://localhost:8080/"
        },
        "id": "65x8PoChu572",
        "outputId": "60ebb2fc-1a82-4333-d1f6-b4f03d518e5d"
      },
      "outputs": [
        {
          "name": "stdout",
          "output_type": "stream",
          "text": [
            "<bound method NDFrame.head of                                timestamp  amount currency  significance  \\\n",
            "0       2021-03-15T23:20:10.481000+00:00     500      JPY             3   \n",
            "1       2021-03-15T23:20:11.441000+00:00     610      JPY             3   \n",
            "2       2021-03-15T23:20:37.449000+00:00     200      JPY             2   \n",
            "3       2021-03-15T23:20:43.266000+00:00    2000      JPY             5   \n",
            "4       2021-03-15T23:20:54.710000+00:00    1000      JPY             4   \n",
            "...                                  ...     ...      ...           ...   \n",
            "127640  2021-03-31T23:57:59.593000+00:00     500      JPY             3   \n",
            "127641  2021-03-31T23:58:16.964000+00:00     500      JPY             3   \n",
            "127642  2021-03-31T23:58:38.390000+00:00     200      JPY             2   \n",
            "127643  2021-03-31T23:59:20.657000+00:00     500      JPY             3   \n",
            "127644  2021-03-31T23:59:46.165000+00:00     500      JPY             3   \n",
            "\n",
            "                                 authorChannelId      videoId  \\\n",
            "0       6a28292c17dfeaa73c2c4b3a40657d8fb851001b  WhpXKPe6sII   \n",
            "1       026766efcedd7e95b502c902876206764afef197  mb1QEbcTVVY   \n",
            "2       772d2cf18cc2240cc6f452289140038e0248bc4c  j44h8twoWUA   \n",
            "3       5ef3fcd29561912fefcef4bfa10e2845814540a5  OPmItLYZE_0   \n",
            "4       7be70b8730e9d928aca129847ed92af5f5a5494f  eCsJGgUfTQU   \n",
            "...                                          ...          ...   \n",
            "127640  c8a0dc472b71b7a6cffdf8453b6a90dc18ba9804  9kxjbaQOFo0   \n",
            "127641  b2eeb778fb83aaca98197a7504379fdaf218e82e  oLXuDdZLqoY   \n",
            "127642  8c38d9370f600c659c196786f6208029d53f6b50  9kxjbaQOFo0   \n",
            "127643  4ee5e769d78ab84250dbf03383ddab57016d66d0  9kxjbaQOFo0   \n",
            "127644  163c4e7c68c9f7fb20b879e9134a325ccbc47f4b  9kxjbaQOFo0   \n",
            "\n",
            "                       channelId  bodylength  \n",
            "0       UCFKOVgVbGmX65RxO3EtH3iw         110  \n",
            "1       UCV5ZZlLjk5MKGg3L0n0vbzw          17  \n",
            "2       UCvaTdHTWBGv3MKj3KVqJVCw          49  \n",
            "3       UCNVEsYbiZjH5QLmGeSgTSzg          22  \n",
            "4       UCl_gCybOJRIgOXw6Qb4qJzQ          39  \n",
            "...                          ...         ...  \n",
            "127640  UCFKOVgVbGmX65RxO3EtH3iw         118  \n",
            "127641  UC1DCedRgGHBdm81E1llLhOQ          38  \n",
            "127642  UCFKOVgVbGmX65RxO3EtH3iw          28  \n",
            "127643  UCFKOVgVbGmX65RxO3EtH3iw          70  \n",
            "127644  UCFKOVgVbGmX65RxO3EtH3iw          58  \n",
            "\n",
            "[127645 rows x 8 columns]>\n",
            "/content/superchats_2021-03.parquet\n",
            "2021-03-01\n"
          ]
        }
      ],
      "source": [
        "# Combine all Parquet files matching the pattern 'superchats_*.parquet' into a single DataFrame\n",
        "\n",
        "def dataset_converter(parquet):\n",
        "  sc = pd.concat([\n",
        "      pd.read_parquet(f)  # Read each Parquet file\n",
        "      for f in iglob(parquet)  # Find all matching files\n",
        "  ], ignore_index=False)  # Keep the original indices\n",
        "\n",
        "# Sort the DataFrame by its index\n",
        "  sc.sort_index(inplace=True)\n",
        "\n",
        "  return sc\n",
        "\n",
        "\n",
        "sc = dataset_converter('/content/superchats_2021-03.parquet')\n",
        "\n",
        "# An array containing all datasets\n",
        "datasets = []\n",
        "\n",
        "# We go though every file in /content/ and load the datasets into the datasets array\n",
        "for file in iglob('/content/superchats_*.parquet'):\n",
        "\n",
        "  # Getting the file name of which file is being loaded and parsing out the year and month for the data\n",
        "  filename = open(file).name\n",
        "  year = int((filename.split(\"/content/superchats_\")[1]).split(\".parquet\")[0].split(\"-\")[0])\n",
        "  month = int((filename.split(\"/content/superchats_\")[1]).split(\".parquet\")[0].split(\"-\")[1])\n",
        "  datasets.append({\n",
        "      \"data\": pd.read_parquet(file),\n",
        "      \"filename\": filename,\n",
        "      \"date\": date(year, month, 1)\n",
        "      })\n",
        "\n",
        "# Sort the dataset making sure index 0 is the first month\n",
        "datasets = sorted(datasets, key=lambda item: item[\"date\"], reverse=False)\n",
        "\n",
        "#print(sc.head)\n",
        "print(datasets[0][\"data\"].head)\n",
        "print(datasets[0][\"filename\"])\n",
        "print(datasets[0][\"date\"])"
      ]
    },
    {
      "cell_type": "code",
      "execution_count": null,
      "metadata": {
        "colab": {
          "base_uri": "https://localhost:8080/"
        },
        "id": "_b1rck7avmcq",
        "outputId": "e9e23d07-4f0b-49e7-f315-3e77431fd526"
      },
      "outputs": [
        {
          "name": "stdout",
          "output_type": "stream",
          "text": [
            "Total unique patreons: 37894\n",
            "Total Channels: 321\n"
          ]
        }
      ],
      "source": [
        "# Print the total number of unique Patreon authors\n",
        "print(\"Total unique patreons:\", len(sc.authorChannelId.unique()))\n",
        "\n",
        "# Print the total number of unique channels\n",
        "print(\"Total Channels:\", len(sc.channelId.unique()))"
      ]
    },
    {
      "cell_type": "markdown",
      "metadata": {
        "id": "MLCnGYOLO4IS"
      },
      "source": [
        "# Currency Conversion\n"
      ]
    },
    {
      "cell_type": "code",
      "execution_count": null,
      "metadata": {
        "colab": {
          "base_uri": "https://localhost:8080/"
        },
        "id": "M5_mZ8-9VtEd",
        "outputId": "f7155752-22c1-40ee-8d61-ce3c15f3f475"
      },
      "outputs": [
        {
          "name": "stdout",
          "output_type": "stream",
          "text": [
            "<bound method NDFrame.head of                                timestamp  amount currency  significance  \\\n",
            "0       2021-03-15T23:20:10.481000+00:00     500      JPY             3   \n",
            "1       2021-03-15T23:20:11.441000+00:00     610      JPY             3   \n",
            "2       2021-03-15T23:20:37.449000+00:00     200      JPY             2   \n",
            "3       2021-03-15T23:20:43.266000+00:00    2000      JPY             5   \n",
            "4       2021-03-15T23:20:54.710000+00:00    1000      JPY             4   \n",
            "...                                  ...     ...      ...           ...   \n",
            "127640  2021-03-31T23:57:59.593000+00:00     500      JPY             3   \n",
            "127641  2021-03-31T23:58:16.964000+00:00     500      JPY             3   \n",
            "127642  2021-03-31T23:58:38.390000+00:00     200      JPY             2   \n",
            "127643  2021-03-31T23:59:20.657000+00:00     500      JPY             3   \n",
            "127644  2021-03-31T23:59:46.165000+00:00     500      JPY             3   \n",
            "\n",
            "                                 authorChannelId      videoId  \\\n",
            "0       6a28292c17dfeaa73c2c4b3a40657d8fb851001b  WhpXKPe6sII   \n",
            "1       026766efcedd7e95b502c902876206764afef197  mb1QEbcTVVY   \n",
            "2       772d2cf18cc2240cc6f452289140038e0248bc4c  j44h8twoWUA   \n",
            "3       5ef3fcd29561912fefcef4bfa10e2845814540a5  OPmItLYZE_0   \n",
            "4       7be70b8730e9d928aca129847ed92af5f5a5494f  eCsJGgUfTQU   \n",
            "...                                          ...          ...   \n",
            "127640  c8a0dc472b71b7a6cffdf8453b6a90dc18ba9804  9kxjbaQOFo0   \n",
            "127641  b2eeb778fb83aaca98197a7504379fdaf218e82e  oLXuDdZLqoY   \n",
            "127642  8c38d9370f600c659c196786f6208029d53f6b50  9kxjbaQOFo0   \n",
            "127643  4ee5e769d78ab84250dbf03383ddab57016d66d0  9kxjbaQOFo0   \n",
            "127644  163c4e7c68c9f7fb20b879e9134a325ccbc47f4b  9kxjbaQOFo0   \n",
            "\n",
            "                       channelId  bodylength  amount_in_usd  \n",
            "0       UCFKOVgVbGmX65RxO3EtH3iw         110           4.58  \n",
            "1       UCV5ZZlLjk5MKGg3L0n0vbzw          17           5.59  \n",
            "2       UCvaTdHTWBGv3MKj3KVqJVCw          49           1.83  \n",
            "3       UCNVEsYbiZjH5QLmGeSgTSzg          22          18.31  \n",
            "4       UCl_gCybOJRIgOXw6Qb4qJzQ          39           9.16  \n",
            "...                          ...         ...            ...  \n",
            "127640  UCFKOVgVbGmX65RxO3EtH3iw         118           4.51  \n",
            "127641  UC1DCedRgGHBdm81E1llLhOQ          38           4.51  \n",
            "127642  UCFKOVgVbGmX65RxO3EtH3iw          28           1.81  \n",
            "127643  UCFKOVgVbGmX65RxO3EtH3iw          70           4.51  \n",
            "127644  UCFKOVgVbGmX65RxO3EtH3iw          58           4.51  \n",
            "\n",
            "[127645 rows x 9 columns]>\n"
          ]
        }
      ],
      "source": [
        "# Predefined fallback exchange rates for unsupported currencies\n",
        "exchange_rates = {\n",
        "    'JPY': 0.0065, 'TWD': 0.0310, 'HKD': 0.1286, 'CAD': 0.7186, 'PHP': 0.0171, 'EUR': 1.0713, 'SGD': 0.7530, 'GBP': 1.2910, 'AUD': 0.6576, 'RUB': 0.0102, 'KRW': 0.0007, 'MXN': 0.0495,\n",
        "    'BRL': 0.1742, 'ARS': 0.0010, 'CLP': 0.0010, 'SEK': 0.0923, 'INR': 0.0118, 'PLN': 0.2474, 'NZD': 0.5957, 'PEN': 0.2657, 'NOK': 0.0908, 'DKK': 0.1436, 'HUF': 0.0026, 'CHF': 1.1412,\n",
        "    'CZK': 0.0424, 'HRK': 1.0713, 'COP': 0.0002, 'BGN': 0.5477, 'HNL': 0.0397, 'ISK': 0.0072, 'CRC': 0.0072, 'RON': 0.2152, 'ZAR': 0.0567, 'GTQ': 0.1293, 'BYN': 0.3057, 'RSD': 0.0091,\n",
        "    'BOB': 0.0091, 'UYU': 0.0239, 'DOP': 0.0165, 'MKD': 0.0174,\n",
        "}\n",
        "\n",
        "# Function to convert donation amounts to USD\n",
        "def convert_to_usd(row):\n",
        "    try:\n",
        "        # Try converting using the currency converter with the donation timestamp\n",
        "        return currencyConverter.convert(row[\"amount\"], row[\"currency\"], \"USD\", datetime.fromisoformat(str(row[\"timestamp\"])))\n",
        "\n",
        "    except (ValueError, RateNotFoundError) as e:  # Fallback for unsupported currencies\n",
        "        rate = exchange_rates.get(row[\"currency\"], 1)  # Get the fallback rate, default is 1 (same value)\n",
        "        return row['amount'] * rate  # Convert using fallback rate\n",
        "\n",
        "# Apply the conversion to each row in the DataFrame and store the result in a new column\n",
        "\n",
        "# Applying the currency conversion to all datasets\n",
        "for dataset in datasets:\n",
        "  dataset[\"data\"]['amount_in_usd'] = dataset[\"data\"].apply(convert_to_usd, axis=1).round(2)\n",
        "\n",
        "sc['amount_in_usd'] = sc.apply(convert_to_usd, axis=1)\n",
        "\n",
        "# Round the 'amount_in_usd' column to 2 decimal places\n",
        "sc['amount_in_usd'] = sc['amount_in_usd'].round(2)\n",
        "\n",
        "# Print the first few rows of the updated DataFrame\n",
        "print(sc.head)"
      ]
    },
    {
      "cell_type": "markdown",
      "metadata": {
        "id": "8Sz-aXUBfvbr"
      },
      "source": [
        "# Building the graphs"
      ]
    },
    {
      "cell_type": "code",
      "execution_count": null,
      "metadata": {
        "id": "bvPrERkqVNFf"
      },
      "outputs": [],
      "source": [
        "# Initialize a directed graph\n",
        "def create_graph(data, limit=-1):\n",
        "  graph = nx.DiGraph()\n",
        "\n",
        "  # Dictionary to store total superchat amount per edge (authorChannelId -> channelId)\n",
        "  superchat_edge_dictionary = {}\n",
        "\n",
        "  # Dictionary to store attributes for edges (e.g., currency type and distance)\n",
        "  attributes = {}\n",
        "\n",
        "  # Loop through the superchat data (assuming sc is a DataFrame)\n",
        "  for index, superchat in data.iterrows():\n",
        "      # Check if an edge already exists, and if so, accumulate the donation amount\n",
        "      if (superchat.authorChannelId, superchat.channelId) in superchat_edge_dictionary:\n",
        "          superchat_edge_dictionary[(superchat.authorChannelId, superchat.channelId)] += superchat.amount_in_usd\n",
        "      else:\n",
        "          # If the edge doesn't exist, initialize the donation amount and set the edge attribute\n",
        "          superchat_edge_dictionary[(superchat.authorChannelId, superchat.channelId)] = superchat.amount_in_usd\n",
        "          attributes[(superchat.authorChannelId, superchat.channelId)] = {\n",
        "              \"currency\": superchat.currency,\n",
        "              # \"distance\": 1/superchat.amount (can be used if needed)\n",
        "          }\n",
        "\n",
        "      # Stop processing after 1000 rows (for testing purposes)\n",
        "      if index == limit:\n",
        "          break\n",
        "\n",
        "  ### Add edges to the graph with the donation amount as the weight\n",
        "  for edge, weight in superchat_edge_dictionary.items():\n",
        "      graph.add_edge(edge[0], edge[1], weight=weight)\n",
        "\n",
        "  # Calculate the distance for each edge: distance is the inverse of the total donation amount\n",
        "  for index, (edge, value) in enumerate(attributes.items()):\n",
        "      total_amount = superchat_edge_dictionary[edge]\n",
        "      try:\n",
        "        value[\"distance\"] = 1 / total_amount  # Smaller amounts lead to larger distances\n",
        "      except ZeroDivisionError:\n",
        "        value[\"distane\"] = 0\n",
        "\n",
        "      attributes[edge] = value\n",
        "\n",
        "  # Set all the attributes for the edges in the graph\n",
        "  nx.set_edge_attributes(graph, attributes)\n",
        "\n",
        "  return graph\n",
        "\n",
        "# Will store the graphs for every dataset\n",
        "graphs = []\n",
        "\n",
        "limit = -1\n",
        "\n",
        "# Go through every dataset and create graphs for the datasets and store them inthe graphs array\n",
        "for dataset in datasets:\n",
        "  graphs.append({\n",
        "      \"graph\": create_graph(dataset[\"data\"], limit),\n",
        "      \"filename\": dataset[\"filename\"],\n",
        "      \"date\": dataset[\"date\"]\n",
        "      })\n",
        "\n",
        "\n",
        "graph = create_graph(sc)"
      ]
    },
    {
      "cell_type": "code",
      "execution_count": null,
      "metadata": {
        "id": "YT6n4RCZGmtf"
      },
      "outputs": [],
      "source": [
        "# Set up figure size for the plot\n",
        "def draw_graph(graph):\n",
        "  plt.figure(figsize=(8, 6))\n",
        "\n",
        "  # Define the positioning of nodes using the shell layout\n",
        "  pos = nx.spring_layout(graph)\n",
        "\n",
        "  # Draw the graph with nodes of size 50\n",
        "  nx.draw(graph, pos, node_size=50)\n",
        "\n",
        "  # Get the edge labels (weights) to display the donation amounts\n",
        "  edge_labels = nx.get_edge_attributes(graph, 'weight')\n",
        "\n",
        "  # Draw edge labels on the plot to display the weights\n",
        "  nx.draw_networkx_edge_labels(graph, pos, edge_labels=edge_labels, font_size=8)\n",
        "\n",
        "  # Show the plot\n",
        "  plt.show()\n",
        "\n",
        "for graph in graphs:\n",
        "  draw_graph(graph[\"graph\"])"
      ]
    },
    {
      "cell_type": "markdown",
      "metadata": {
        "id": "szeXVN9olRDs"
      },
      "source": [
        "# Find currency of best candidate"
      ]
    },
    {
      "cell_type": "code",
      "execution_count": null,
      "metadata": {
        "colab": {
          "base_uri": "https://localhost:8080/"
        },
        "id": "cO2GK2RnEHNp",
        "outputId": "d94e45b5-8006-46bb-8fbc-6cd48010a05f"
      },
      "outputs": [
        {
          "name": "stdout",
          "output_type": "stream",
          "text": [
            "Best candidate:\n",
            "('UCS9uQI-jC3DE0L4IpXyvr6w', 0.054090124038310566)\n",
            "('UC1DCedRgGHBdm81E1llLhOQ', 0.030172188203276287)\n",
            "('UCoSrY_IQQVpmIRZ9Xf-y93g', 0.028471240906474068)\n",
            "('UCFKOVgVbGmX65RxO3EtH3iw', 0.027293662008687915)\n",
            "('UCvzGlP9oQwU--Y0r9id_jnA', 0.02726749358873711)\n",
            "('UCHsx4Hqa-1ORjQTh9TYDhww', 0.026168419950803372)\n",
            "('UCqm3BQLlJfvkTsX_hvm0UmA', 0.02577589365154132)\n",
            "('UCCzUftO8KOVkV4wQG1vkUvg', 0.025723556811639712)\n",
            "('UCL_qhgtOy0dy1Agp8vkySQg', 0.02436279897419794)\n",
            "('UC1CfXB_kRs3C-zaeTG3oGyg', 0.023473072695870623)\n"
          ]
        }
      ],
      "source": [
        "# Function to find the \"best candidate\" node based on in-degree centrality\n",
        "\n",
        "def top_in_candidate(G):\n",
        "    # Calculate in-degree centrality for all nodes in the graph\n",
        "    centrality = nx.in_degree_centrality(G)\n",
        "\n",
        "    # Find the maximum centrality value\n",
        "    top_10_gainers = sorted(centrality.items(), key=lambda item: item[1], reverse=True)[0:10]  # Return the node with the highest in-degree centrality\n",
        "\n",
        "    return top_10_gainers\n",
        "\n",
        "# Find and print the best candidate for having most donations in the graph\n",
        "best_candidate_streamer = top_in_candidate(graph)\n",
        "print(\"Best candidate:\")\n",
        "print(*best_candidate_streamer, sep='\\n')"
      ]
    },
    {
      "cell_type": "code",
      "execution_count": null,
      "metadata": {
        "id": "P3cmugaHlQio"
      },
      "outputs": [],
      "source": [
        "best_candidate_1step_edges = graph.in_edges(best_candidate_streamer) # Grab all the edges for the best_caindidate found above\n",
        "\n",
        "print(graph.edges[next(iter(best_candidate_1step_edges))[0],next(iter(best_candidate_1step_edges))[1]][\"currency\"]) # This lines grabs the currency of the first edge in best_candidate_1step_edges. I had to use next(iter(best_candidate_1step_edges)) because the dev didn't implement using indexs like best_candidate_1step_edges[0] :("
      ]
    },
    {
      "cell_type": "code",
      "execution_count": null,
      "metadata": {
        "colab": {
          "base_uri": "https://localhost:8080/"
        },
        "id": "UiQIIGWoRHSI",
        "outputId": "ccb9d2ad-07a2-48c4-8210-bda7901f57b2"
      },
      "outputs": [
        {
          "data": {
            "text/plain": [
              "InDegreeView({'UCS9uQI-jC3DE0L4IpXyvr6w': 2067})"
            ]
          },
          "execution_count": 81,
          "metadata": {},
          "output_type": "execute_result"
        }
      ],
      "source": [
        "graph.in_degree(best_candidate_streamer[0])"
      ]
    },
    {
      "cell_type": "code",
      "execution_count": null,
      "metadata": {
        "colab": {
          "base_uri": "https://localhost:8080/"
        },
        "id": "nnNQF93GSAiO",
        "outputId": "2f43af84-24b8-4c55-cf2e-46c5e50c19ec"
      },
      "outputs": [
        {
          "name": "stdout",
          "output_type": "stream",
          "text": [
            "87593.08\n"
          ]
        }
      ],
      "source": [
        "total_amount = sum(data['weight'] for _, _, data in graph.in_edges(best_candidate_streamer[0], data=True))\n",
        "print(round(total_amount, 2))"
      ]
    },
    {
      "cell_type": "markdown",
      "metadata": {
        "id": "KojHhOImGkuR"
      },
      "source": [
        "# Finding the most influencial donators"
      ]
    },
    {
      "cell_type": "code",
      "execution_count": null,
      "metadata": {
        "colab": {
          "base_uri": "https://localhost:8080/"
        },
        "id": "dUKGrqQ0IEto",
        "outputId": "f9adaac1-b222-4b53-84e0-0d5b9e076b96"
      },
      "outputs": [
        {
          "name": "stdout",
          "output_type": "stream",
          "text": [
            "Best candidate:\n",
            "('358aaddc52d77d586905d46da9fcc644ca72e75e', 0.001203747317736955)\n",
            "('0d520b71c0fc01b9302d70ce21e15d14b051e039', 0.0005757052389176742)\n",
            "('c1b69e599e63ef6c16fdb024be82317376d043df', 0.0005495368189668708)\n",
            "('862f85a29fa903de2e3aa58497e166d136874e49', 0.0005495368189668708)\n",
            "('9104d24076566282f8b19b05e0bf7fb78c7be4d6', 0.000497199979065264)\n",
            "('86fc3699c144a81774bea74698ad3a9e74236238', 0.000497199979065264)\n",
            "('0dd1fd96cc090ec6640159a00e09b5f909217b61', 0.000497199979065264)\n",
            "('ba9c1c9823a7f0f84197d6130a354dfc1dbeb5db', 0.0004710315591144607)\n",
            "('c28d774059ad51e0781db6e3e13b362f77b204c8', 0.0004448631391636573)\n",
            "('bf9dc34c258c6db3ebbb3bd500be956f7f86834b', 0.00041869471921285393)\n"
          ]
        }
      ],
      "source": [
        "# Function to find the \"best candidate\" node based on in-degree centrality\n",
        "def top_out_candidate(G):\n",
        "    # Calculate in-degree centrality for all nodes in the graph\n",
        "    centrality = nx.out_degree_centrality(G)\n",
        "\n",
        "    # Iterate through nodes to find the one with the maximum centrality\n",
        "    top_10_gainers = sorted(centrality.items(), key=lambda item: item[1], reverse=True)[0:10]\n",
        "\n",
        "    return top_10_gainers\n",
        "\n",
        "# Find and print the best candidate for having most donations in the test graph\n",
        "best_candidate_streamer = top_out_candidate(graph)\n",
        "print(\"Best candidate:\")\n",
        "print(*best_candidate_streamer, sep='\\n')"
      ]
    },
    {
      "cell_type": "code",
      "execution_count": null,
      "metadata": {
        "colab": {
          "base_uri": "https://localhost:8080/"
        },
        "id": "9ptGEcW7Qd5y",
        "outputId": "2bd21d62-c884-49eb-ce4c-8c39e58c1f76"
      },
      "outputs": [
        {
          "data": {
            "text/plain": [
              "OutDegreeView({'358aaddc52d77d586905d46da9fcc644ca72e75e': 46})"
            ]
          },
          "execution_count": 102,
          "metadata": {},
          "output_type": "execute_result"
        }
      ],
      "source": [
        "graph.out_degree(best_candidate_streamer[0])"
      ]
    },
    {
      "cell_type": "code",
      "execution_count": null,
      "metadata": {
        "colab": {
          "base_uri": "https://localhost:8080/"
        },
        "id": "saFgLe6bW1YB",
        "outputId": "954e7a60-61e3-4583-ea7e-9d8f564e1ed3"
      },
      "outputs": [
        {
          "name": "stdout",
          "output_type": "stream",
          "text": [
            "272.67\n"
          ]
        }
      ],
      "source": [
        "total_amount = sum(data['weight'] for _, _, data in graph.out_edges(best_candidate_streamer[0], data=True))\n",
        "print(round(total_amount, 2))"
      ]
    },
    {
      "cell_type": "markdown",
      "metadata": {
        "id": "hCZPEYhAJ74z"
      },
      "source": [
        "# What is the most influential demograph"
      ]
    },
    {
      "cell_type": "code",
      "execution_count": null,
      "metadata": {
        "colab": {
          "base_uri": "https://localhost:8080/"
        },
        "id": "xOPX2le7KALV",
        "outputId": "a695dd88-b1a6-4053-95e8-a71c87870401"
      },
      "outputs": [
        {
          "name": "stdout",
          "output_type": "stream",
          "text": [
            "\n",
            "Currency counts:\n",
            "currency\n",
            "JPY    90315\n",
            "USD    14289\n",
            "TWD     7348\n",
            "HKD     3324\n",
            "CAD     2065\n",
            "PHP     1669\n",
            "EUR     1461\n",
            "SGD     1268\n",
            "GBP      972\n",
            "AUD      939\n",
            "RUB      834\n",
            "KRW      562\n",
            "MXN      477\n",
            "BRL      385\n",
            "ARS      320\n",
            "CLP      220\n",
            "SEK      186\n",
            "INR      172\n",
            "PLN      166\n",
            "NZD      112\n",
            "PEN      111\n",
            "NOK       74\n",
            "DKK       65\n",
            "HUF       59\n",
            "CHF       56\n",
            "CZK       43\n",
            "HRK       21\n",
            "COP       21\n",
            "BGN       15\n",
            "HNL       13\n",
            "ISK       12\n",
            "CRC       12\n",
            "RON       12\n",
            "ZAR       11\n",
            "GTQ        8\n",
            "BYN        8\n",
            "RSD        8\n",
            "BOB        4\n",
            "UYU        4\n",
            "DOP        3\n",
            "MKD        1\n",
            "Name: count, dtype: int64\n"
          ]
        }
      ],
      "source": [
        "# Count the occurrences of each currency type in the 'currency' column of the DataFrame\n",
        "currency_counts = sc['currency'].value_counts()\n",
        "\n",
        "# Print out the counts of each currency type\n",
        "print(\"\\nCurrency counts:\")\n",
        "print(currency_counts)"
      ]
    },
    {
      "cell_type": "code",
      "execution_count": null,
      "metadata": {
        "id": "9GV5xA4RHdsM"
      },
      "outputs": [],
      "source": [
        "demographic_counts = {}\n",
        "\n",
        "for dataset in datasets:\n",
        "  for index, superchat in dataset[\"data\"].iterrows():\n",
        "    #print(superchat[\"amount\"], superchat[\"currency\"])\n",
        "    try:\n",
        "      demographic_counts[superchat[\"currency\"]] += superchat[\"amount_in_usd\"]\n",
        "    except KeyError:\n",
        "      demographic_counts[superchat[\"currency\"]] = 0\n"
      ]
    },
    {
      "cell_type": "code",
      "execution_count": null,
      "metadata": {
        "colab": {
          "base_uri": "https://localhost:8080/"
        },
        "id": "LgVEHVnlNCkH",
        "outputId": "fddc0de1-18a7-4b6c-fa0a-9eafb779a680"
      },
      "outputs": [
        {
          "name": "stdout",
          "output_type": "stream",
          "text": [
            "JPY 37940365.33002052\n",
            "USD 5873280.88000924\n",
            "TWD 3064894.400003787\n",
            "HKD 1161417.869999888\n",
            "KRW 723527.5599999791\n",
            "CAD 668937.8599999609\n",
            "EUR 579412.6600000098\n",
            "AUD 456855.3199999983\n",
            "SGD 415912.649999927\n",
            "GBP 369679.92000000825\n"
          ]
        }
      ],
      "source": [
        "demographic_counts[\"PYG\"] = 0\n",
        "for key, value in sorted(demographic_counts.items(), key=lambda item: item[1], reverse=True)[0:10]:\n",
        "  print(key,value)"
      ]
    },
    {
      "cell_type": "markdown",
      "metadata": {
        "id": "6Y9k1l5ZWpe5"
      },
      "source": [
        "# Most Influential streamer"
      ]
    },
    {
      "cell_type": "code",
      "execution_count": null,
      "metadata": {
        "id": "TWm695j2KEaS"
      },
      "outputs": [],
      "source": [
        "# Function to find the \"best candidate\" node based on in-degree centrality\n",
        "def best_candidate(G):\n",
        "    # Calculate in-degree centrality for all nodes in the graph\n",
        "    centrality = nx.in_degree_centrality(G)\n",
        "\n",
        "    # Find the maximum centrality value\n",
        "    maximum = max(centrality.values())\n",
        "\n",
        "    # Iterate through nodes to find the one with the maximum centrality\n",
        "    for node in centrality:\n",
        "        if centrality[node] == maximum:  # Check if the current node's centrality matches the maximum\n",
        "            return node  # Return the node with the highest in-degree centrality\n",
        "\n",
        "# Find and print the best candidate for having most donations in the graph\n",
        "best_candidate_streamer = best_candidate(graph)\n"
      ]
    },
    {
      "cell_type": "markdown",
      "metadata": {
        "id": "tt4QsvuLKuMO"
      },
      "source": [
        "# Who are the streamers that gain more donations overtime?"
      ]
    },
    {
      "cell_type": "code",
      "execution_count": null,
      "metadata": {
        "colab": {
          "base_uri": "https://localhost:8080/",
          "height": 743
        },
        "id": "Zk8OEL_rKxAA",
        "outputId": "415531e7-44e2-4659-c1be-91df27215623"
      },
      "outputs": [
        {
          "name": "stdout",
          "output_type": "stream",
          "text": [
            "###########\n",
            "Top 10 gainers\n",
            "###########\n",
            "UC6wvdADTJ88OfIbJYIpAaDA:2810\n",
            "UCwcyyxn6h9ex4sMXGtpQE_g:2606\n",
            "UCo2N7C-Z91waaR6lF3LL_jw:2581\n",
            "UCckdfYDGrjojJM28n5SHYrA:1899\n",
            "UCENwRMx5Yh42zWpzURebzTw:1750\n",
            "UCQ1zGxHrfEmmW4CPpBx9-qw:1619\n",
            "UC6eWCld0KwmyHFbAqK3V-Rw:1522\n",
            "UC4yNIKGvy-YUrwYupVdLDXA:1420\n",
            "UCG0rzBZV_QMP4MtWg6IjhEA:1413\n",
            "UCIBY1ollUsauvVi4hW4cumw:1404\n"
          ]
        },
        {
          "data": {
            "image/png": "[encoded data removed]",
            "text/plain": [
              "<Figure size 640x480 with 1 Axes>"
            ]
          },
          "metadata": {},
          "output_type": "display_data"
        },
        {
          "name": "stdout",
          "output_type": "stream",
          "text": [
            "Average amount of donations gained 73.94158415841584\n"
          ]
        }
      ],
      "source": [
        "channel_subscribers = {}\n",
        "\n",
        "# Go through every node in the graph and pull out any that are channels\n",
        "for network in graphs:\n",
        "  for node in network[\"graph\"]:\n",
        "    if network[\"graph\"].out_degree(node) == 0:\n",
        "      channel_subscribers[node] = []\n",
        "\n",
        "# For every channel we'll go through and graph the total donations for a specific month and record it\n",
        "for node, value in channel_subscribers.items():\n",
        "  for network in graphs:\n",
        "    # Check and my sure the value for .in_degree exists, if not then just set it to 0.\n",
        "    if type(network[\"graph\"].in_degree(node)) == nx.classes.reportviews.InDegreeView:\n",
        "      value.append((network[\"date\"], 0))\n",
        "    else:\n",
        "      value.append((network[\"date\"], network[\"graph\"].in_degree(node)))\n",
        "\n",
        "delta_subscribers = {}\n",
        "\n",
        "# Here we're calculating the difference between the donations of the first month and last month in the data set\n",
        "for index, (node, value) in enumerate(channel_subscribers.items()):\n",
        "\n",
        "  # Sort all the points based on the date\n",
        "  sorted_values = sorted(value, key=lambda tup: tup[0])\n",
        "\n",
        "  delta_subscribers[node] = sorted_values[-1][1] - sorted_values[0][1]\n",
        "\n",
        "top_10_gainers = sorted(delta_subscribers.items(), key=lambda item: item[1], reverse=True)[0:10]\n",
        "\n",
        "\n",
        "print(\"###########\")\n",
        "print(\"Top 10 gainers\")\n",
        "print(\"###########\")\n",
        "for value in top_10_gainers:\n",
        "  print(value[0] + \":\" + str(value[1]))\n",
        "\n",
        "plt.title(\"Gained donations histogram\")\n",
        "plt.hist(delta_subscribers.values(), bins=50)\n",
        "plt.yscale(\"log\")\n",
        "plt.xlabel(\"Gained donations\")\n",
        "plt.show()\n",
        "\n",
        "print(\"Average amount of donations gained\", sum(delta_subscribers.values())/ len(delta_subscribers.values()))\n"
      ]
    },
    {
      "cell_type": "markdown",
      "metadata": {
        "id": "KiZaxiNbKxkV"
      },
      "source": [
        "# What are the patterns of donation behavior?\n",
        "\n",
        "Community detection"
      ]
    },
    {
      "cell_type": "code",
      "execution_count": null,
      "metadata": {
        "id": "Sb4uDCtvS7OA"
      },
      "outputs": [],
      "source": [
        "#https://networkx.org/documentation/stable/reference/algorithms/generated/networkx.algorithms.community.modularity_max.greedy_modularity_communities.html#networkx.algorithms.community.modularity_max.greedy_modularity_communities\n",
        "\n",
        "#How long it took: 35 minutes\n",
        "\n",
        "sc = dataset_converter('/content/superchats_2021-03.parquet')\n",
        "\n",
        "sc['amount_in_usd'] = sc.apply(convert_to_usd, axis=1)\n",
        "\n",
        "  # Round the 'amount_in_usd' column to 2 decimal places\n",
        "sc['amount_in_usd'] = sc['amount_in_usd'].round(2)\n",
        "\n",
        "G = create_graph(sc)\n",
        "\n",
        "#UG = G.to_undirected()\n",
        "\n",
        "communities = community.greedy_modularity_communities(G)\n"
      ]
    },
    {
      "cell_type": "code",
      "execution_count": null,
      "metadata": {
        "colab": {
          "base_uri": "https://localhost:8080/"
        },
        "id": "Whll3crrY8UX",
        "outputId": "b4dcef08-e1da-450c-8fa0-329be53fb50e"
      },
      "outputs": [
        {
          "name": "stdout",
          "output_type": "stream",
          "text": [
            "Number of communities: 42\n"
          ]
        }
      ],
      "source": [
        "num_communities = len(communities)\n",
        "\n",
        "print(f\"Number of communities: {num_communities}\")"
      ]
    },
    {
      "cell_type": "code",
      "execution_count": null,
      "metadata": {
        "colab": {
          "base_uri": "https://localhost:8080/"
        },
        "id": "3yY85k_vh1LN",
        "outputId": "c2d76dd8-89ed-4c19-a086-ee94be55bf4d"
      },
      "outputs": [
        {
          "name": "stdout",
          "output_type": "stream",
          "text": [
            "Community:0 $406916.34999999974\n",
            "Community:1 $183783.89999999557\n",
            "Community:2 $213505.62999999884\n",
            "Community:3 $83703.33999999936\n",
            "Community:4 $52573.6299999997\n",
            "Community:5 $43732.76999999994\n",
            "Community:6 $31270.640000000054\n",
            "Community:7 $22384.64000000003\n",
            "Community:8 $14906.310000000036\n",
            "Community:9 $21462.480000000007\n",
            "Community:10 $26146.650000000034\n",
            "Community:11 $27707.690000000017\n",
            "Community:12 $19228.64000000002\n",
            "Community:13 $12735.050000000008\n",
            "Community:14 $16752.15\n",
            "Community:15 $8292.349999999991\n",
            "Community:16 $13139.890000000012\n",
            "Community:17 $9871.5\n",
            "Community:18 $9962.190000000004\n",
            "Community:19 $6316.6200000000035\n",
            "Community:20 $1986.1899999999994\n",
            "Community:21 $2351.7299999999987\n",
            "Community:22 $3483.37\n",
            "Community:23 $2507.5399999999995\n",
            "Community:24 $816.3599999999994\n",
            "Community:25 $866.21\n",
            "Community:26 $1256.3799999999997\n",
            "Community:27 $662.7699999999999\n",
            "Community:28 $432.6199999999999\n",
            "Community:29 $81.38\n",
            "Community:30 $335.63\n",
            "Community:31 $743.6400000000001\n",
            "Community:32 $278.35\n",
            "Community:33 $80.83999999999999\n",
            "Community:34 $101.25999999999999\n",
            "Community:35 $121.98\n",
            "Community:36 $29.56\n",
            "Community:37 $9.36\n",
            "Community:38 $6.89\n",
            "Community:39 $18.78\n",
            "Community:40 $146.45000000000002\n",
            "Community:41 $9.2\n"
          ]
        }
      ],
      "source": [
        "for index, community in enumerate(communities):\n",
        "  #print(community)\n",
        "  community_total = 0\n",
        "  for node in community:\n",
        "    #print(node)\n",
        "    for edge in G.out_edges(node):\n",
        "      community_total += G[edge[0]][edge[1]][\"weight\"]\n",
        "  #print(index, community_total)\n",
        "  print(\"Community:\" + str(index) + \" $\" + str(community_total))"
      ]
    },
    {
      "cell_type": "code",
      "execution_count": null,
      "metadata": {
        "colab": {
          "base_uri": "https://localhost:8080/",
          "height": 533
        },
        "id": "ibtaifjBhyah",
        "outputId": "d9393645-d848-4a96-d98c-bbb74cab08ce"
      },
      "outputs": [
        {
          "data": {
            "text/plain": [
              "<matplotlib.collections.PathCollection at 0x7a4f10872e90>"
            ]
          },
          "execution_count": 69,
          "metadata": {},
          "output_type": "execute_result"
        },
        {
          "data": {
            "image/png": "[encoded data removed]",
            "text/plain": [
              "<Figure size 640x480 with 1 Axes>"
            ]
          },
          "metadata": {},
          "output_type": "display_data"
        }
      ],
      "source": [
        "pos = nx.spring_layout(G)\n",
        "#edge_labels = nx.get_edge_attributes(test_graph, 'weight')  # Get edge attributes (weights)\n",
        "nx.draw(G, pos, edge_color=\"k\", node_size=50)\n",
        "#nx.draw_networkx_edge_labels(graph, pos, edge_labels=edge_labels, font_size=8)\n",
        "\n",
        "nx.draw_networkx_nodes(G, pos, nodelist=list(comp[0]), node_size=50, node_color=\"r\")\n",
        "nx.draw_networkx_nodes(G, pos, nodelist=list(comp[1]), node_size=50, node_color=\"g\")"
      ]
    },
    {
      "cell_type": "markdown",
      "metadata": {
        "id": "6l_aGLhcK0pF"
      },
      "source": [
        "# What is the impact of large donations on channel growth?"
      ]
    },
    {
      "cell_type": "code",
      "execution_count": null,
      "metadata": {
        "colab": {
          "base_uri": "https://localhost:8080/"
        },
        "id": "LHGdpa6rK4tX",
        "outputId": "8e2d8f9c-f485-4251-b207-b48225fb20f2"
      },
      "outputs": [
        {
          "name": "stdout",
          "output_type": "stream",
          "text": [
            "[('UCS9uQI-jC3DE0L4IpXyvr6w', [(datetime.date(2021, 3, 1), 2067), (datetime.date(2021, 4, 1), 4065), (datetime.date(2021, 5, 1), 3284)]), ('UC1DCedRgGHBdm81E1llLhOQ', [(datetime.date(2021, 3, 1), 1153), (datetime.date(2021, 4, 1), 1747), (datetime.date(2021, 5, 1), 2544)]), ('UCoSrY_IQQVpmIRZ9Xf-y93g', [(datetime.date(2021, 3, 1), 1088), (datetime.date(2021, 4, 1), 1952), (datetime.date(2021, 5, 1), 2448)]), ('UCFKOVgVbGmX65RxO3EtH3iw', [(datetime.date(2021, 3, 1), 1043), (datetime.date(2021, 4, 1), 1579), (datetime.date(2021, 5, 1), 1917)]), ('UCvzGlP9oQwU--Y0r9id_jnA', [(datetime.date(2021, 3, 1), 1042), (datetime.date(2021, 4, 1), 1684), (datetime.date(2021, 5, 1), 2117)]), ('UCHsx4Hqa-1ORjQTh9TYDhww', [(datetime.date(2021, 3, 1), 1000), (datetime.date(2021, 4, 1), 1398), (datetime.date(2021, 5, 1), 2108)]), ('UCqm3BQLlJfvkTsX_hvm0UmA', [(datetime.date(2021, 3, 1), 985), (datetime.date(2021, 4, 1), 1431), (datetime.date(2021, 5, 1), 2295)]), ('UCCzUftO8KOVkV4wQG1vkUvg', [(datetime.date(2021, 3, 1), 983), (datetime.date(2021, 4, 1), 1909), (datetime.date(2021, 5, 1), 1998)]), ('UCL_qhgtOy0dy1Agp8vkySQg', [(datetime.date(2021, 3, 1), 931), (datetime.date(2021, 4, 1), 2543), (datetime.date(2021, 5, 1), 1461)]), ('UC1CfXB_kRs3C-zaeTG3oGyg', [(datetime.date(2021, 3, 1), 897), (datetime.date(2021, 4, 1), 758), (datetime.date(2021, 5, 1), 794)]), ('UChAnqc_AY5_I3Px5dig3X1Q', [(datetime.date(2021, 3, 1), 853), (datetime.date(2021, 4, 1), 2175), (datetime.date(2021, 5, 1), 1317)]), ('UCHVXbQzkl3rDfsXWo8xi2qw', [(datetime.date(2021, 3, 1), 839), (datetime.date(2021, 4, 1), 307), (datetime.date(2021, 5, 1), 467)]), ('UCl_gCybOJRIgOXw6Qb4qJzQ', [(datetime.date(2021, 3, 1), 835), (datetime.date(2021, 4, 1), 2107), (datetime.date(2021, 5, 1), 2206)]), ('UCXRlIK3Cw_TJIQC5kSJJQMg', [(datetime.date(2021, 3, 1), 821), (datetime.date(2021, 4, 1), 756), (datetime.date(2021, 5, 1), 630)]), ('UCvaTdHTWBGv3MKj3KVqJVCw', [(datetime.date(2021, 3, 1), 796), (datetime.date(2021, 4, 1), 1970), (datetime.date(2021, 5, 1), 1124)]), ('UC5CwaMl1eIgY8h02uZw7u8A', [(datetime.date(2021, 3, 1), 745), (datetime.date(2021, 4, 1), 1251), (datetime.date(2021, 5, 1), 731)]), ('UCMwGHR0BTZuLsmjY_NT5Pwg', [(datetime.date(2021, 3, 1), 710), (datetime.date(2021, 4, 1), 1006), (datetime.date(2021, 5, 1), 3181)]), ('UC1opHUrw8rvnsadT-iGp7Cg', [(datetime.date(2021, 3, 1), 710), (datetime.date(2021, 4, 1), 869), (datetime.date(2021, 5, 1), 1017)]), ('UCZ1xuCK1kNmn5RzPYIZop3w', [(datetime.date(2021, 3, 1), 704), (datetime.date(2021, 4, 1), 277), (datetime.date(2021, 5, 1), 1230)]), ('UCajhBT4nMrg3DLS-bLL2RCg', [(datetime.date(2021, 3, 1), 699), (datetime.date(2021, 4, 1), 665), (datetime.date(2021, 5, 1), 558)]), ('UCP9ZgeIJ3Ri9En69R0kJc9Q', [(datetime.date(2021, 3, 1), 690), (datetime.date(2021, 4, 1), 146), (datetime.date(2021, 5, 1), 729)]), ('UCdyqAaZDKHXg4Ahi7VENThQ', [(datetime.date(2021, 3, 1), 678), (datetime.date(2021, 4, 1), 2192), (datetime.date(2021, 5, 1), 1020)]), ('UC7fk0CB07ly8oSl0aqKkqFg', [(datetime.date(2021, 3, 1), 651), (datetime.date(2021, 4, 1), 1267), (datetime.date(2021, 5, 1), 1641)]), ('UC-hM6YJuNYVAmUWxeIr9FeA', [(datetime.date(2021, 3, 1), 636), (datetime.date(2021, 4, 1), 2326), (datetime.date(2021, 5, 1), 1601)]), ('UCSFCh5NL4qXrAy9u-u2lX3g', [(datetime.date(2021, 3, 1), 528), (datetime.date(2021, 4, 1), 1039), (datetime.date(2021, 5, 1), 869)]), ('UCmZ1Rbthn-6Jm_qOGjYsh5A', [(datetime.date(2021, 3, 1), 527), (datetime.date(2021, 4, 1), 521), (datetime.date(2021, 5, 1), 672)]), ('UCyl1z3jo3XHR1riLFKG5UAg', [(datetime.date(2021, 3, 1), 523), (datetime.date(2021, 4, 1), 1073), (datetime.date(2021, 5, 1), 1495)]), ('UCAWSyEs_Io8MtpY3m-zqILA', [(datetime.date(2021, 3, 1), 510), (datetime.date(2021, 4, 1), 2547), (datetime.date(2021, 5, 1), 1750)]), ('UCz6Gi81kE6p5cdW1rT0ixqw', [(datetime.date(2021, 3, 1), 507), (datetime.date(2021, 4, 1), 67), (datetime.date(2021, 5, 1), 92)]), ('UCUKD-uaobj9jiqB-VXt71mA', [(datetime.date(2021, 3, 1), 506), (datetime.date(2021, 4, 1), 931), (datetime.date(2021, 5, 1), 1087)]), ('UCXTpFs_3PqI41qX2d9tL2Rw', [(datetime.date(2021, 3, 1), 497), (datetime.date(2021, 4, 1), 669), (datetime.date(2021, 5, 1), 835)]), ('UCa9Y57gfeY0Zro_noHRVrnw', [(datetime.date(2021, 3, 1), 494), (datetime.date(2021, 4, 1), 737), (datetime.date(2021, 5, 1), 585)]), ('UCspv01oxUFf_MTSipURRhkA', [(datetime.date(2021, 3, 1), 493), (datetime.date(2021, 4, 1), 740), (datetime.date(2021, 5, 1), 1096)]), ('UCZlDXzGoo7d44bwdNObFacg', [(datetime.date(2021, 3, 1), 483), (datetime.date(2021, 4, 1), 1908), (datetime.date(2021, 5, 1), 1535)]), ('UCdn5BQ06XqgXoAxIhbqw5Rg', [(datetime.date(2021, 3, 1), 468), (datetime.date(2021, 4, 1), 667), (datetime.date(2021, 5, 1), 1368)]), ('UCFTLzh12_nrtzqBPsTCqenA', [(datetime.date(2021, 3, 1), 464), (datetime.date(2021, 4, 1), 616), (datetime.date(2021, 5, 1), 926)]), ('UCvInZx9h3jC2JzsIzoOebWg', [(datetime.date(2021, 3, 1), 461), (datetime.date(2021, 4, 1), 1569), (datetime.date(2021, 5, 1), 1003)]), ('UCQ0UDLQCjY0rmuxCDE38FGg', [(datetime.date(2021, 3, 1), 430), (datetime.date(2021, 4, 1), 720), (datetime.date(2021, 5, 1), 1578)]), ('UCdpUojq0KWZCN9bxXnZwz5w', [(datetime.date(2021, 3, 1), 409), (datetime.date(2021, 4, 1), 154), (datetime.date(2021, 5, 1), 251)]), ('UC-o-E6I3IC2q8sAoAuM6Umg', [(datetime.date(2021, 3, 1), 409), (datetime.date(2021, 4, 1), 90), (datetime.date(2021, 5, 1), 143)]), ('UCUc8GZfFxtmk7ZwSO7ccQ0g', [(datetime.date(2021, 3, 1), 408), (datetime.date(2021, 4, 1), 354), (datetime.date(2021, 5, 1), 455)]), ('UChLfthKoUV502J7gU9STArg', [(datetime.date(2021, 3, 1), 398), (datetime.date(2021, 4, 1), 604), (datetime.date(2021, 5, 1), 985)]), ('UC1uv2Oq6kNxgATlCiez59hw', [(datetime.date(2021, 3, 1), 367), (datetime.date(2021, 4, 1), 931), (datetime.date(2021, 5, 1), 1203)]), ('UCp-5t9SrOQwXMU7iIjQfARg', [(datetime.date(2021, 3, 1), 365), (datetime.date(2021, 4, 1), 659), (datetime.date(2021, 5, 1), 1609)]), ('UCK9V2B22uJYu3N7eR_BT9QA', [(datetime.date(2021, 3, 1), 365), (datetime.date(2021, 4, 1), 437), (datetime.date(2021, 5, 1), 692)]), ('UCv1fFr156jc65EMiLbaLImw', [(datetime.date(2021, 3, 1), 343), (datetime.date(2021, 4, 1), 270), (datetime.date(2021, 5, 1), 597)]), ('UCkPIfBOLoO0hVPG-tI2YeGg', [(datetime.date(2021, 3, 1), 339), (datetime.date(2021, 4, 1), 326), (datetime.date(2021, 5, 1), 285)]), ('UCD-miitqNY3nyukJ4Fnf4_A', [(datetime.date(2021, 3, 1), 337), (datetime.date(2021, 4, 1), 244), (datetime.date(2021, 5, 1), 187)]), ('UCmovZ2th3Sqpd00F5RdeigQ', [(datetime.date(2021, 3, 1), 330), (datetime.date(2021, 4, 1), 444), (datetime.date(2021, 5, 1), 1260)]), ('UCYz_5n-uDuChHtLo7My1HnQ', [(datetime.date(2021, 3, 1), 329), (datetime.date(2021, 4, 1), 548), (datetime.date(2021, 5, 1), 390)]), ('UCDqI2jOz0weumE8s7paEk6g', [(datetime.date(2021, 3, 1), 324), (datetime.date(2021, 4, 1), 425), (datetime.date(2021, 5, 1), 946)]), ('UCLO9QDxVL4bnvRRsz6K4bsQ', [(datetime.date(2021, 3, 1), 323), (datetime.date(2021, 4, 1), 573), (datetime.date(2021, 5, 1), 905)]), ('UCXU7YYxy_iQd3ulXyO-zC2w', [(datetime.date(2021, 3, 1), 316), (datetime.date(2021, 4, 1), 117), (datetime.date(2021, 5, 1), 257)]), ('UCFv2z4iM5vHrS8bZPq4fHQQ', [(datetime.date(2021, 3, 1), 308), (datetime.date(2021, 4, 1), 106), (datetime.date(2021, 5, 1), 151)]), ('UCvmppcdYf4HOv-tFQhHHJMA', [(datetime.date(2021, 3, 1), 308), (datetime.date(2021, 4, 1), 41), (datetime.date(2021, 5, 1), 12)]), ('UCRqBKoKuX30ruKAq05pCeRQ', [(datetime.date(2021, 3, 1), 300), (datetime.date(2021, 4, 1), 373), (datetime.date(2021, 5, 1), 297)]), ('UCkngxfPbmGyGl_RIq4FA3MQ', [(datetime.date(2021, 3, 1), 296), (datetime.date(2021, 4, 1), 417), (datetime.date(2021, 5, 1), 373)]), ('UCeLzT-7b2PBcunJplmWtoDg', [(datetime.date(2021, 3, 1), 280), (datetime.date(2021, 4, 1), 435), (datetime.date(2021, 5, 1), 317)]), ('UChgTyjG-pdNvxxhdsXfHQ5Q', [(datetime.date(2021, 3, 1), 264), (datetime.date(2021, 4, 1), 427), (datetime.date(2021, 5, 1), 359)]), ('UC6wvdADTJ88OfIbJYIpAaDA', [(datetime.date(2021, 3, 1), 262), (datetime.date(2021, 4, 1), 1368), (datetime.date(2021, 5, 1), 543)]), ('UC8NZiqKx6fsDT3AVcMiVFyA', [(datetime.date(2021, 3, 1), 257), (datetime.date(2021, 4, 1), 1242), (datetime.date(2021, 5, 1), 470)]), ('UC9mf_ZVpouoILRY9NUIaK-w', [(datetime.date(2021, 3, 1), 245), (datetime.date(2021, 4, 1), 176), (datetime.date(2021, 5, 1), 163)]), ('UC_4tXjqecqox5Uc05ncxpxg', [(datetime.date(2021, 3, 1), 239), (datetime.date(2021, 4, 1), 272), (datetime.date(2021, 5, 1), 180)]), ('UCp6993wxpyDPHUpavwDFqgg', [(datetime.date(2021, 3, 1), 237), (datetime.date(2021, 4, 1), 360), (datetime.date(2021, 5, 1), 899)]), ('UCjlmCrq4TP1I4xguOtJ-31w', [(datetime.date(2021, 3, 1), 235), (datetime.date(2021, 4, 1), 330), (datetime.date(2021, 5, 1), 507)]), ('UCW8WKciBixmaqaGqrlTITRQ', [(datetime.date(2021, 3, 1), 230), (datetime.date(2021, 4, 1), 280), (datetime.date(2021, 5, 1), 338)]), ('UCuep1JCrMvSxOGgGhBfJuYw', [(datetime.date(2021, 3, 1), 224), (datetime.date(2021, 4, 1), 536), (datetime.date(2021, 5, 1), 380)]), ('UC3vzVK_N_SUVKqbX69L_X4g', [(datetime.date(2021, 3, 1), 223), (datetime.date(2021, 4, 1), 198), (datetime.date(2021, 5, 1), 150)]), ('UCKeAhJvy8zgXWbh9duVjIaQ', [(datetime.date(2021, 3, 1), 220), (datetime.date(2021, 4, 1), 256), (datetime.date(2021, 5, 1), 228)]), ('UCGYAYLDE7TZiiC8U6teciDQ', [(datetime.date(2021, 3, 1), 219), (datetime.date(2021, 4, 1), 142), (datetime.date(2021, 5, 1), 166)]), ('UCC0i9nECi4Gz7TU63xZwodg', [(datetime.date(2021, 3, 1), 218), (datetime.date(2021, 4, 1), 556), (datetime.date(2021, 5, 1), 486)]), ('UCo2N7C-Z91waaR6lF3LL_jw', [(datetime.date(2021, 3, 1), 212), (datetime.date(2021, 4, 1), 634), (datetime.date(2021, 5, 1), 564)]), ('UCuvk5PilcvDECU7dDZhQiEw', [(datetime.date(2021, 3, 1), 210), (datetime.date(2021, 4, 1), 519), (datetime.date(2021, 5, 1), 452)]), ('UC_a1ZYZ8ZTXpjg9xUY9sj8w', [(datetime.date(2021, 3, 1), 204), (datetime.date(2021, 4, 1), 120), (datetime.date(2021, 5, 1), 415)]), ('UCLyTXfCZtl7dyhta9Jg3pZg', [(datetime.date(2021, 3, 1), 202), (datetime.date(2021, 4, 1), 351), (datetime.date(2021, 5, 1), 558)]), ('UC1zFJrfEKvCixhsjNSb1toQ', [(datetime.date(2021, 3, 1), 194), (datetime.date(2021, 4, 1), 169), (datetime.date(2021, 5, 1), 140)]), ('UChSvpZYRPh0FvG4SJGSga3g', [(datetime.date(2021, 3, 1), 191), (datetime.date(2021, 4, 1), 323), (datetime.date(2021, 5, 1), 110)]), ('UC8C1LLhBhf_E2IBPLSDJXlQ', [(datetime.date(2021, 3, 1), 179), (datetime.date(2021, 4, 1), 338), (datetime.date(2021, 5, 1), 1036)]), ('UCo7TRj3cS-f_1D9ZDmuTsjw', [(datetime.date(2021, 3, 1), 178), (datetime.date(2021, 4, 1), 260), (datetime.date(2021, 5, 1), 178)]), ('UCX7YkU9nEeaoZbkVLVajcMg', [(datetime.date(2021, 3, 1), 178), (datetime.date(2021, 4, 1), 8), (datetime.date(2021, 5, 1), 18)]), ('UCKMYISTJAQ8xTplUPHiABlA', [(datetime.date(2021, 3, 1), 177), (datetime.date(2021, 4, 1), 258), (datetime.date(2021, 5, 1), 387)]), ('UCyO7wyh07pYJaZk51OV75bA', [(datetime.date(2021, 3, 1), 172), (datetime.date(2021, 4, 1), 210), (datetime.date(2021, 5, 1), 257)]), ('UC0Owc36U9lOyi9Gx9Ic-4qg', [(datetime.date(2021, 3, 1), 170), (datetime.date(2021, 4, 1), 356), (datetime.date(2021, 5, 1), 446)]), ('UC22BVlBsZc6ta3Dqz75NU6Q', [(datetime.date(2021, 3, 1), 161), (datetime.date(2021, 4, 1), 316), (datetime.date(2021, 5, 1), 436)]), ('UCNW1Ex0r6HsWRD4LCtPwvoQ', [(datetime.date(2021, 3, 1), 159), (datetime.date(2021, 4, 1), 473), (datetime.date(2021, 5, 1), 512)]), ('UCwokZsOK_uEre70XayaFnzA', [(datetime.date(2021, 3, 1), 156), (datetime.date(2021, 4, 1), 240), (datetime.date(2021, 5, 1), 252)]), ('UCIG9rDtgR45VCZmYnd-4DUw', [(datetime.date(2021, 3, 1), 150), (datetime.date(2021, 4, 1), 167), (datetime.date(2021, 5, 1), 775)]), ('UCwcyyxn6h9ex4sMXGtpQE_g', [(datetime.date(2021, 3, 1), 147), (datetime.date(2021, 4, 1), 197), (datetime.date(2021, 5, 1), 342)]), ('UCODNLyn3L83wEmC0DLL0cxA', [(datetime.date(2021, 3, 1), 145), (datetime.date(2021, 4, 1), 339), (datetime.date(2021, 5, 1), 310)]), ('UCfipDDn7wY-C-SoUChgxCQQ', [(datetime.date(2021, 3, 1), 144), (datetime.date(2021, 4, 1), 77), (datetime.date(2021, 5, 1), 108)]), ('UCl-3q6t6zdZwgIsFZELb7Zg', [(datetime.date(2021, 3, 1), 143), (datetime.date(2021, 4, 1), 162), (datetime.date(2021, 5, 1), 224)]), ('UCsFn_ueskBkMCEyzCEqAOvg', [(datetime.date(2021, 3, 1), 142), (datetime.date(2021, 4, 1), 301), (datetime.date(2021, 5, 1), 256)]), ('UCANDOlYTJT7N5jlRC3zfzVA', [(datetime.date(2021, 3, 1), 141), (datetime.date(2021, 4, 1), 225), (datetime.date(2021, 5, 1), 320)]), ('UCTIE7LM5X15NVugV7Krp9Hw', [(datetime.date(2021, 3, 1), 138), (datetime.date(2021, 4, 1), 544), (datetime.date(2021, 5, 1), 240)]), ('UCdYR5Oyz8Q4g0ZmB4PkTD7g', [(datetime.date(2021, 3, 1), 135), (datetime.date(2021, 4, 1), 386), (datetime.date(2021, 5, 1), 429)]), ('UCn1coImC6NMDYCQfH_ILzXw', [(datetime.date(2021, 3, 1), 132), (datetime.date(2021, 4, 1), 219), (datetime.date(2021, 5, 1), 113)]), ('UC2OacIzd2UxGHRGhdHl1Rhw', [(datetime.date(2021, 3, 1), 132), (datetime.date(2021, 4, 1), 49), (datetime.date(2021, 5, 1), 119)]), ('UCXp7sNC0F_qkjickvlYkg-Q', [(datetime.date(2021, 3, 1), 128), (datetime.date(2021, 4, 1), 184), (datetime.date(2021, 5, 1), 221)]), ('UCJCzy0Fyrm0UhIrGQ7tHpjg', [(datetime.date(2021, 3, 1), 127), (datetime.date(2021, 4, 1), 167), (datetime.date(2021, 5, 1), 27)]), ('UCNVEsYbiZjH5QLmGeSgTSzg', [(datetime.date(2021, 3, 1), 124), (datetime.date(2021, 4, 1), 351), (datetime.date(2021, 5, 1), 115)]), ('UCt0F29rrrkOU5Vu2gyYgrBA', [(datetime.date(2021, 3, 1), 124), (datetime.date(2021, 4, 1), 0), (datetime.date(2021, 5, 1), 0)]), ('UCZgOv3YDEs-ZnZWDYVwJdmA', [(datetime.date(2021, 3, 1), 123), (datetime.date(2021, 4, 1), 197), (datetime.date(2021, 5, 1), 122)]), ('UCUZ5AlC3rTlM-rA2cj5RP6w', [(datetime.date(2021, 3, 1), 122), (datetime.date(2021, 4, 1), 274), (datetime.date(2021, 5, 1), 236)]), ('UC9V3Y3_uzU5e-usObb6IE1w', [(datetime.date(2021, 3, 1), 121), (datetime.date(2021, 4, 1), 321), (datetime.date(2021, 5, 1), 386)]), ('UCV5ZZlLjk5MKGg3L0n0vbzw', [(datetime.date(2021, 3, 1), 121), (datetime.date(2021, 4, 1), 249), (datetime.date(2021, 5, 1), 327)]), ('UCt30jJgChL8qeT9VPadidSw', [(datetime.date(2021, 3, 1), 121), (datetime.date(2021, 4, 1), 218), (datetime.date(2021, 5, 1), 976)]), ('UCH11P1Hq4PXdznyw1Hhr3qw', [(datetime.date(2021, 3, 1), 117), (datetime.date(2021, 4, 1), 229), (datetime.date(2021, 5, 1), 292)]), ('UCllKI7VjyANuS1RXatizfLQ', [(datetime.date(2021, 3, 1), 117), (datetime.date(2021, 4, 1), 138), (datetime.date(2021, 5, 1), 115)]), ('UCtnO2N4kPTXmyvedjGWdx3Q', [(datetime.date(2021, 3, 1), 113), (datetime.date(2021, 4, 1), 205), (datetime.date(2021, 5, 1), 280)]), ('UCFahBR2wixu0xOex84bXFvg', [(datetime.date(2021, 3, 1), 113), (datetime.date(2021, 4, 1), 178), (datetime.date(2021, 5, 1), 298)]), ('UCeShTCVgZyq2lsBW9QwIJcw', [(datetime.date(2021, 3, 1), 110), (datetime.date(2021, 4, 1), 277), (datetime.date(2021, 5, 1), 260)]), ('UC0g1AE0DOjBYnLhkgoRWN1w', [(datetime.date(2021, 3, 1), 110), (datetime.date(2021, 4, 1), 175), (datetime.date(2021, 5, 1), 135)]), ('UCP0BspO_AMEe3aQqqpo89Dg', [(datetime.date(2021, 3, 1), 107), (datetime.date(2021, 4, 1), 216), (datetime.date(2021, 5, 1), 125)]), ('UCwL7dgTxKo8Y4RFIKWaf8gA', [(datetime.date(2021, 3, 1), 107), (datetime.date(2021, 4, 1), 206), (datetime.date(2021, 5, 1), 244)]), ('UCIytNcoz4pWzXfLda0DoULQ', [(datetime.date(2021, 3, 1), 105), (datetime.date(2021, 4, 1), 121), (datetime.date(2021, 5, 1), 441)]), ('UCZYyhgoV314CM14zBD6vd4A', [(datetime.date(2021, 3, 1), 104), (datetime.date(2021, 4, 1), 65), (datetime.date(2021, 5, 1), 45)]), ('UCyIcOCH-VWaRKH9IkR8hz7Q', [(datetime.date(2021, 3, 1), 104), (datetime.date(2021, 4, 1), 41), (datetime.date(2021, 5, 1), 67)]), ('UCtzCQnCT9E4o6U3mHHSHbQQ', [(datetime.date(2021, 3, 1), 102), (datetime.date(2021, 4, 1), 141), (datetime.date(2021, 5, 1), 159)]), ('UCzUNASdzI4PV5SlqtYwAkKQ', [(datetime.date(2021, 3, 1), 101), (datetime.date(2021, 4, 1), 185), (datetime.date(2021, 5, 1), 769)]), ('UCL34fAoFim9oHLbVzMKFavQ', [(datetime.date(2021, 3, 1), 100), (datetime.date(2021, 4, 1), 247), (datetime.date(2021, 5, 1), 213)]), ('UC_BlXOQe5OcRC7o0GX8kp8A', [(datetime.date(2021, 3, 1), 99), (datetime.date(2021, 4, 1), 272), (datetime.date(2021, 5, 1), 88)]), ('UCb6ObE-XGCctO3WrjRZC-cw', [(datetime.date(2021, 3, 1), 99), (datetime.date(2021, 4, 1), 128), (datetime.date(2021, 5, 1), 340)]), ('UCyb-cllCkMREr9de-hoiDrg', [(datetime.date(2021, 3, 1), 99), (datetime.date(2021, 4, 1), 78), (datetime.date(2021, 5, 1), 229)]), ('UC5nfcGkOAm3JwfPvJvzplHg', [(datetime.date(2021, 3, 1), 99), (datetime.date(2021, 4, 1), 0), (datetime.date(2021, 5, 1), 0)]), ('UC3EhsuKdEkI99TWZwZgWutg', [(datetime.date(2021, 3, 1), 97), (datetime.date(2021, 4, 1), 88), (datetime.date(2021, 5, 1), 177)]), ('UC2kyQhzGOB-JPgcQX9OMgEw', [(datetime.date(2021, 3, 1), 96), (datetime.date(2021, 4, 1), 140), (datetime.date(2021, 5, 1), 158)]), ('UCc5H1WmEARIj2R16mvut0ZA', [(datetime.date(2021, 3, 1), 96), (datetime.date(2021, 4, 1), 112), (datetime.date(2021, 5, 1), 130)]), ('UC7-N7MvN5muVIHqyQx9LFbA', [(datetime.date(2021, 3, 1), 95), (datetime.date(2021, 4, 1), 83), (datetime.date(2021, 5, 1), 149)]), ('UCpJtk0myFr5WnyfsmnInP-w', [(datetime.date(2021, 3, 1), 94), (datetime.date(2021, 4, 1), 156), (datetime.date(2021, 5, 1), 155)]), ('UC1suqwovbL1kzsoaZgFZLKg', [(datetime.date(2021, 3, 1), 93), (datetime.date(2021, 4, 1), 295), (datetime.date(2021, 5, 1), 140)]), ('UCl1oLKcAq93p-pwKfDGhiYQ', [(datetime.date(2021, 3, 1), 93), (datetime.date(2021, 4, 1), 172), (datetime.date(2021, 5, 1), 145)]), ('UCOyYb1c43VlX9rc_lT6NKQw', [(datetime.date(2021, 3, 1), 91), (datetime.date(2021, 4, 1), 264), (datetime.date(2021, 5, 1), 152)]), ('UC_WOBIopwUih0rytRnr_1Ag', [(datetime.date(2021, 3, 1), 89), (datetime.date(2021, 4, 1), 333), (datetime.date(2021, 5, 1), 212)]), ('UC727SQYUvx5pDDGQpTICNWg', [(datetime.date(2021, 3, 1), 87), (datetime.date(2021, 4, 1), 237), (datetime.date(2021, 5, 1), 282)]), ('UCAoy6rzhSf4ydcYjJw3WoVg', [(datetime.date(2021, 3, 1), 87), (datetime.date(2021, 4, 1), 182), (datetime.date(2021, 5, 1), 127)]), ('UCj_KuUzpOXAliYEesJwdrbw', [(datetime.date(2021, 3, 1), 87), (datetime.date(2021, 4, 1), 166), (datetime.date(2021, 5, 1), 382)]), ('UCryOPk2GZ1meIDt53tL30Tw', [(datetime.date(2021, 3, 1), 83), (datetime.date(2021, 4, 1), 335), (datetime.date(2021, 5, 1), 277)]), ('UC_82HBGtvwN1hcGeOGHzUBQ', [(datetime.date(2021, 3, 1), 82), (datetime.date(2021, 4, 1), 211), (datetime.date(2021, 5, 1), 190)]), ('UCWImOidHDmm0KK20bkF-rSQ', [(datetime.date(2021, 3, 1), 82), (datetime.date(2021, 4, 1), 192), (datetime.date(2021, 5, 1), 243)]), ('UCw-jEa3_788VkvM2zHzrDnw', [(datetime.date(2021, 3, 1), 82), (datetime.date(2021, 4, 1), 39), (datetime.date(2021, 5, 1), 102)]), ('UC4YaOt1yT-ZeyB0OmxHgolA', [(datetime.date(2021, 3, 1), 80), (datetime.date(2021, 4, 1), 42), (datetime.date(2021, 5, 1), 69)]), ('UC7CtvN04ublW4LGTPksG6mg', [(datetime.date(2021, 3, 1), 79), (datetime.date(2021, 4, 1), 184), (datetime.date(2021, 5, 1), 160)]), ('UCB1s_IdO-r0nUkY2mXeti-A', [(datetime.date(2021, 3, 1), 79), (datetime.date(2021, 4, 1), 95), (datetime.date(2021, 5, 1), 86)]), ('UCe_p3YEuYJb8Np0Ip9dk-FQ', [(datetime.date(2021, 3, 1), 78), (datetime.date(2021, 4, 1), 97), (datetime.date(2021, 5, 1), 114)]), ('UCfiK42sBHraMBK6eNWtsy7A', [(datetime.date(2021, 3, 1), 76), (datetime.date(2021, 4, 1), 199), (datetime.date(2021, 5, 1), 94)]), ('UCoztvTULBYd3WmStqYeoHcA', [(datetime.date(2021, 3, 1), 75), (datetime.date(2021, 4, 1), 161), (datetime.date(2021, 5, 1), 256)]), ('UC48jH1ul-6HOrcSSfoR02fQ', [(datetime.date(2021, 3, 1), 75), (datetime.date(2021, 4, 1), 132), (datetime.date(2021, 5, 1), 78)]), ('UCMzxQ58QL4NNbWghGymtHvw', [(datetime.date(2021, 3, 1), 73), (datetime.date(2021, 4, 1), 99), (datetime.date(2021, 5, 1), 188)]), ('UCpnvhOIJ6BN-vPkYU9ls-Eg', [(datetime.date(2021, 3, 1), 73), (datetime.date(2021, 4, 1), 95), (datetime.date(2021, 5, 1), 64)]), ('UCRV9d6YCYIMUszK-83TwxVA', [(datetime.date(2021, 3, 1), 73), (datetime.date(2021, 4, 1), 5), (datetime.date(2021, 5, 1), 9)]), ('UCwrjITPwG4q71HzihV2C7Nw', [(datetime.date(2021, 3, 1), 70), (datetime.date(2021, 4, 1), 179), (datetime.date(2021, 5, 1), 83)]), ('UCkIimWZ9gBJRamKF0rmPU8w', [(datetime.date(2021, 3, 1), 69), (datetime.date(2021, 4, 1), 217), (datetime.date(2021, 5, 1), 953)]), ('UCsA8nM8e5--IdeRaxZwTWHg', [(datetime.date(2021, 3, 1), 69), (datetime.date(2021, 4, 1), 118), (datetime.date(2021, 5, 1), 0)]), ('UCGw7lrT-rVZCWHfdG9Frcgg', [(datetime.date(2021, 3, 1), 67), (datetime.date(2021, 4, 1), 306), (datetime.date(2021, 5, 1), 195)]), ('UCLhUvJ_wO9hOvv_yYENu4fQ', [(datetime.date(2021, 3, 1), 66), (datetime.date(2021, 4, 1), 177), (datetime.date(2021, 5, 1), 112)]), ('UCeK9HFcRZoTrvqcUCtccMoQ', [(datetime.date(2021, 3, 1), 66), (datetime.date(2021, 4, 1), 62), (datetime.date(2021, 5, 1), 107)]), ('UC2hc-00y-MSR6eYA4eQ4tjQ', [(datetime.date(2021, 3, 1), 65), (datetime.date(2021, 4, 1), 71), (datetime.date(2021, 5, 1), 184)]), ('UCYm8zALd2uHqyy6C1tb4_zA', [(datetime.date(2021, 3, 1), 64), (datetime.date(2021, 4, 1), 142), (datetime.date(2021, 5, 1), 81)]), ('UCWCc8tO-uUl_7SJXIKJACMw', [(datetime.date(2021, 3, 1), 62), (datetime.date(2021, 4, 1), 218), (datetime.date(2021, 5, 1), 165)]), ('UCxJ9SJLG7dA00M7VoEe4ltw', [(datetime.date(2021, 3, 1), 62), (datetime.date(2021, 4, 1), 54), (datetime.date(2021, 5, 1), 149)]), ('UCerkculBD7YLc_vOGrF7tKg', [(datetime.date(2021, 3, 1), 58), (datetime.date(2021, 4, 1), 135), (datetime.date(2021, 5, 1), 435)]), ('UCH1B9AR8sfWJVf9zcu9rbGg', [(datetime.date(2021, 3, 1), 58), (datetime.date(2021, 4, 1), 82), (datetime.date(2021, 5, 1), 103)]), ('UC6oDys1BGgBsIC3WhG1BovQ', [(datetime.date(2021, 3, 1), 56), (datetime.date(2021, 4, 1), 142), (datetime.date(2021, 5, 1), 59)]), ('UChUJbHiTVeGrSkTdBzVfNCQ', [(datetime.date(2021, 3, 1), 55), (datetime.date(2021, 4, 1), 223), (datetime.date(2021, 5, 1), 141)]), ('UCD8HOxPs4Xvsm8H0ZxXGiBw', [(datetime.date(2021, 3, 1), 55), (datetime.date(2021, 4, 1), 121), (datetime.date(2021, 5, 1), 702)]), ('UCMAc88lqzqGV0uxgw9JDj0w', [(datetime.date(2021, 3, 1), 55), (datetime.date(2021, 4, 1), 54), (datetime.date(2021, 5, 1), 62)]), ('UCV2m2UifDGr3ebjSnDv5rUA', [(datetime.date(2021, 3, 1), 54), (datetime.date(2021, 4, 1), 69), (datetime.date(2021, 5, 1), 131)]), ('UCwePpiw1ocZRSNSkpKvVISw', [(datetime.date(2021, 3, 1), 53), (datetime.date(2021, 4, 1), 140), (datetime.date(2021, 5, 1), 50)]), ('UCL_O_HXgLJx3Auteer0n0pA', [(datetime.date(2021, 3, 1), 53), (datetime.date(2021, 4, 1), 139), (datetime.date(2021, 5, 1), 221)]), ('UC1ZV7KBscK0EMoJKFu1DnDg', [(datetime.date(2021, 3, 1), 53), (datetime.date(2021, 4, 1), 97), (datetime.date(2021, 5, 1), 242)]), ('UCw8bMzcXgX4SAQPraOJIVgA', [(datetime.date(2021, 3, 1), 53), (datetime.date(2021, 4, 1), 38), (datetime.date(2021, 5, 1), 37)]), ('UCoM_XmK45j504hfUWvN06Qg', [(datetime.date(2021, 3, 1), 49), (datetime.date(2021, 4, 1), 172), (datetime.date(2021, 5, 1), 52)]), ('UCbTkauz77OIO9KE5YcAKPlg', [(datetime.date(2021, 3, 1), 48), (datetime.date(2021, 4, 1), 43), (datetime.date(2021, 5, 1), 29)]), ('UCoFEbNyIRUS26-hf2AucwFw', [(datetime.date(2021, 3, 1), 47), (datetime.date(2021, 4, 1), 58), (datetime.date(2021, 5, 1), 86)]), ('UC53UDnhAAYwvNO7j_2Ju1cQ', [(datetime.date(2021, 3, 1), 47), (datetime.date(2021, 4, 1), 20), (datetime.date(2021, 5, 1), 162)]), ('UC0TXe_LYZ4scaW2XMyi5_kw', [(datetime.date(2021, 3, 1), 46), (datetime.date(2021, 4, 1), 339), (datetime.date(2021, 5, 1), 358)]), ('UCYKP16oMX9KKPbrNgo_Kgag', [(datetime.date(2021, 3, 1), 46), (datetime.date(2021, 4, 1), 132), (datetime.date(2021, 5, 1), 189)]), ('UC1519-d1jzGiL1MPTxEdtSA', [(datetime.date(2021, 3, 1), 46), (datetime.date(2021, 4, 1), 115), (datetime.date(2021, 5, 1), 0)]), ('UCBQd84IW8OvM8H5jftHdvmw', [(datetime.date(2021, 3, 1), 46), (datetime.date(2021, 4, 1), 111), (datetime.date(2021, 5, 1), 54)]), ('UCGNI4MENvnsymYjKiZwv9eg', [(datetime.date(2021, 3, 1), 45), (datetime.date(2021, 4, 1), 217), (datetime.date(2021, 5, 1), 124)]), ('UCfQVs_KuXeNAlGa3fb8rlnQ', [(datetime.date(2021, 3, 1), 45), (datetime.date(2021, 4, 1), 118), (datetime.date(2021, 5, 1), 75)]), ('UCCXME7oZmXB2VFHJbz5496A', [(datetime.date(2021, 3, 1), 45), (datetime.date(2021, 4, 1), 111), (datetime.date(2021, 5, 1), 65)]), ('UCg63a3lk6PNeWhVvMRM_mrQ', [(datetime.date(2021, 3, 1), 45), (datetime.date(2021, 4, 1), 103), (datetime.date(2021, 5, 1), 77)]), ('UC--A2dwZW7-M2kID0N6_lfA', [(datetime.date(2021, 3, 1), 45), (datetime.date(2021, 4, 1), 57), (datetime.date(2021, 5, 1), 172)]), ('UClV7gDF9sUzu4jJCK7rCYkQ', [(datetime.date(2021, 3, 1), 44), (datetime.date(2021, 4, 1), 59), (datetime.date(2021, 5, 1), 59)]), ('UCBiqkFJljoxAj10SoP2w2Cg', [(datetime.date(2021, 3, 1), 43), (datetime.date(2021, 4, 1), 1087), (datetime.date(2021, 5, 1), 195)]), ('UCDG8K9g6qo8gX4jCjsqUVzA', [(datetime.date(2021, 3, 1), 43), (datetime.date(2021, 4, 1), 135), (datetime.date(2021, 5, 1), 160)]), ('UC6t3-_N8A6ME1JShZHHqOMw', [(datetime.date(2021, 3, 1), 43), (datetime.date(2021, 4, 1), 79), (datetime.date(2021, 5, 1), 102)]), ('UCPvGypSgfDkVe7JG2KygK7A', [(datetime.date(2021, 3, 1), 42), (datetime.date(2021, 4, 1), 105), (datetime.date(2021, 5, 1), 96)]), ('UCt0clH12Xk1-Ej5PXKGfdPA', [(datetime.date(2021, 3, 1), 42), (datetime.date(2021, 4, 1), 102), (datetime.date(2021, 5, 1), 83)]), ('UCDh2bWI5EDu7PavqwICkVpA', [(datetime.date(2021, 3, 1), 42), (datetime.date(2021, 4, 1), 83), (datetime.date(2021, 5, 1), 41)]), ('UC01gb86Qdlkh23Nqk3A1OLQ', [(datetime.date(2021, 3, 1), 42), (datetime.date(2021, 4, 1), 75), (datetime.date(2021, 5, 1), 55)]), ('UCyZZMKRn-mUEkPzaqa9b6bg', [(datetime.date(2021, 3, 1), 42), (datetime.date(2021, 4, 1), 55), (datetime.date(2021, 5, 1), 59)]), ('UC7yqc24BjJwi3PoqhXrx6og', [(datetime.date(2021, 3, 1), 41), (datetime.date(2021, 4, 1), 57), (datetime.date(2021, 5, 1), 93)]), ('UCXW4MqCQn-jCaxlX-nn-BYg', [(datetime.date(2021, 3, 1), 40), (datetime.date(2021, 4, 1), 359), (datetime.date(2021, 5, 1), 75)]), ('UCPf-EnX70UM7jqjKwhDmS8g', [(datetime.date(2021, 3, 1), 40), (datetime.date(2021, 4, 1), 148), (datetime.date(2021, 5, 1), 177)]), ('UCv2byPgvl60Mh1vQBnXuksA', [(datetime.date(2021, 3, 1), 39), (datetime.date(2021, 4, 1), 27), (datetime.date(2021, 5, 1), 62)]), ('UCRvpMpzAXBRKJQuk-8-Sdvg', [(datetime.date(2021, 3, 1), 38), (datetime.date(2021, 4, 1), 100), (datetime.date(2021, 5, 1), 122)]), ('UCnRQYHTnRLSF0cLJwMnedCg', [(datetime.date(2021, 3, 1), 37), (datetime.date(2021, 4, 1), 582), (datetime.date(2021, 5, 1), 65)]), ('UCFsWaTQ7kT76jNNGeGIKNSA', [(datetime.date(2021, 3, 1), 37), (datetime.date(2021, 4, 1), 173), (datetime.date(2021, 5, 1), 129)]), ('UCnZUaScptUZ7vBeV-4Vf4nw', [(datetime.date(2021, 3, 1), 37), (datetime.date(2021, 4, 1), 106), (datetime.date(2021, 5, 1), 176)]), ('UCt5-0i4AVHXaWJrL8Wql3mw', [(datetime.date(2021, 3, 1), 36), (datetime.date(2021, 4, 1), 322), (datetime.date(2021, 5, 1), 130)]), ('UCfki3lMEF6SGBFiFfo9kvUA', [(datetime.date(2021, 3, 1), 36), (datetime.date(2021, 4, 1), 153), (datetime.date(2021, 5, 1), 74)]), ('UCHX7YpFG8rVwhsHCx34xt7w', [(datetime.date(2021, 3, 1), 36), (datetime.date(2021, 4, 1), 81), (datetime.date(2021, 5, 1), 75)]), ('UCKwATdrcjyzNv9c56PqJbWA', [(datetime.date(2021, 3, 1), 36), (datetime.date(2021, 4, 1), 45), (datetime.date(2021, 5, 1), 37)]), ('UCle1cz6rcyH0a-xoMYwLlAg', [(datetime.date(2021, 3, 1), 35), (datetime.date(2021, 4, 1), 168), (datetime.date(2021, 5, 1), 56)]), ('UC_9nmotxi7FAfiJpo1RKy8A', [(datetime.date(2021, 3, 1), 35), (datetime.date(2021, 4, 1), 82), (datetime.date(2021, 5, 1), 79)]), ('UCRcLAVTbmx2-iNcXSsupdNA', [(datetime.date(2021, 3, 1), 33), (datetime.date(2021, 4, 1), 174), (datetime.date(2021, 5, 1), 143)]), ('UChXm-xAYPfygrbyLo2yCASQ', [(datetime.date(2021, 3, 1), 33), (datetime.date(2021, 4, 1), 173), (datetime.date(2021, 5, 1), 48)]), ('UC3czs41x7HD5-nk_cZ-Eo3g', [(datetime.date(2021, 3, 1), 33), (datetime.date(2021, 4, 1), 57), (datetime.date(2021, 5, 1), 68)]), ('UC9EjSJ8pvxtvPdxLOElv73w', [(datetime.date(2021, 3, 1), 32), (datetime.date(2021, 4, 1), 106), (datetime.date(2021, 5, 1), 118)]), ('UCkkdEmzZHMp9xqs_F7v1EQQ', [(datetime.date(2021, 3, 1), 32), (datetime.date(2021, 4, 1), 70), (datetime.date(2021, 5, 1), 59)]), ('UCOrjRyXJpMzfQFLWuWzGwlg', [(datetime.date(2021, 3, 1), 32), (datetime.date(2021, 4, 1), 19), (datetime.date(2021, 5, 1), 20)]), ('UCBJFtEEDnCpz8koPH-nLWUA', [(datetime.date(2021, 3, 1), 31), (datetime.date(2021, 4, 1), 56), (datetime.date(2021, 5, 1), 40)]), ('UCvPPBoTOor5gm8zSlE2tg4w', [(datetime.date(2021, 3, 1), 31), (datetime.date(2021, 4, 1), 39), (datetime.date(2021, 5, 1), 77)]), ('UCOozmdnOhOrk3mojTazi-TQ', [(datetime.date(2021, 3, 1), 31), (datetime.date(2021, 4, 1), 36), (datetime.date(2021, 5, 1), 26)]), ('UC8CKGSvp9bRfmtWyfV5L9Jw', [(datetime.date(2021, 3, 1), 29), (datetime.date(2021, 4, 1), 16), (datetime.date(2021, 5, 1), 14)]), ('UCJubINhCcFXlsBwnHp0wl_g', [(datetime.date(2021, 3, 1), 28), (datetime.date(2021, 4, 1), 26), (datetime.date(2021, 5, 1), 31)]), ('UCV4EoK6BVNl7wxuxpUvvSWA', [(datetime.date(2021, 3, 1), 27), (datetime.date(2021, 4, 1), 110), (datetime.date(2021, 5, 1), 159)]), ('UCSH4t_nhsNIoxPza4ooYqaA', [(datetime.date(2021, 3, 1), 27), (datetime.date(2021, 4, 1), 67), (datetime.date(2021, 5, 1), 36)]), ('UC_-vS9T3_X52HWMhIBsHouw', [(datetime.date(2021, 3, 1), 27), (datetime.date(2021, 4, 1), 34), (datetime.date(2021, 5, 1), 44)]), ('UCvEX2UICvFAa_T6pqizC20g', [(datetime.date(2021, 3, 1), 25), (datetime.date(2021, 4, 1), 78), (datetime.date(2021, 5, 1), 71)]), ('UC_FqH-6GpFosu_P0ApjqW5A', [(datetime.date(2021, 3, 1), 25), (datetime.date(2021, 4, 1), 78), (datetime.date(2021, 5, 1), 0)]), ('UCtAvQ5U0aXyKwm2i4GqFgJg', [(datetime.date(2021, 3, 1), 24), (datetime.date(2021, 4, 1), 163), (datetime.date(2021, 5, 1), 107)]), ('UCsg-YqdqQ-KFF0LNk23BY4A', [(datetime.date(2021, 3, 1), 24), (datetime.date(2021, 4, 1), 132), (datetime.date(2021, 5, 1), 50)]), ('UCL-2thbJ7grC9fmGF4OLuTg', [(datetime.date(2021, 3, 1), 24), (datetime.date(2021, 4, 1), 110), (datetime.date(2021, 5, 1), 55)]), ('UCYTz3uIgwVY3ZU-IQJS8r3A', [(datetime.date(2021, 3, 1), 24), (datetime.date(2021, 4, 1), 97), (datetime.date(2021, 5, 1), 116)]), ('UC55-Y4cBl6alNaaOVVEYgSA', [(datetime.date(2021, 3, 1), 24), (datetime.date(2021, 4, 1), 42), (datetime.date(2021, 5, 1), 16)]), ('UCEYU-OEI9FnbeC5hna_cbhw', [(datetime.date(2021, 3, 1), 24), (datetime.date(2021, 4, 1), 29), (datetime.date(2021, 5, 1), 29)]), ('UC_GCs6GARLxEHxy1w40d6VQ', [(datetime.date(2021, 3, 1), 23), (datetime.date(2021, 4, 1), 130), (datetime.date(2021, 5, 1), 64)]), ('UC5ek2GWKvUKFgnKSHuuCFrw', [(datetime.date(2021, 3, 1), 23), (datetime.date(2021, 4, 1), 65), (datetime.date(2021, 5, 1), 75)]), ('UCPeF0V8dzSUYHwgLjvC86PQ', [(datetime.date(2021, 3, 1), 23), (datetime.date(2021, 4, 1), 31), (datetime.date(2021, 5, 1), 15)]), ('UCbc8fwhdUNlqi-J99ISYu4A', [(datetime.date(2021, 3, 1), 22), (datetime.date(2021, 4, 1), 238), (datetime.date(2021, 5, 1), 391)]), ('UCflNPJUJ4VQh1hGDNK7bsFg', [(datetime.date(2021, 3, 1), 22), (datetime.date(2021, 4, 1), 47), (datetime.date(2021, 5, 1), 28)]), ('UCv6rts7X60zoL__5JPwdPGA', [(datetime.date(2021, 3, 1), 22), (datetime.date(2021, 4, 1), 41), (datetime.date(2021, 5, 1), 62)]), ('UCReYPHLeFKv-0wYgX6F2Zhw', [(datetime.date(2021, 3, 1), 22), (datetime.date(2021, 4, 1), 0), (datetime.date(2021, 5, 1), 0)]), ('UCtpB6Bvhs1Um93ziEDACQ8g', [(datetime.date(2021, 3, 1), 21), (datetime.date(2021, 4, 1), 81), (datetime.date(2021, 5, 1), 349)]), ('UCji4kFR4n5TnEpqga0SHxlQ', [(datetime.date(2021, 3, 1), 21), (datetime.date(2021, 4, 1), 8), (datetime.date(2021, 5, 1), 43)]), ('UCClwIqTUn5LDpFucHyaAhHg', [(datetime.date(2021, 3, 1), 20), (datetime.date(2021, 4, 1), 94), (datetime.date(2021, 5, 1), 108)]), ('UClxrt4pRmaqQnSlDii3EJBQ', [(datetime.date(2021, 3, 1), 20), (datetime.date(2021, 4, 1), 47), (datetime.date(2021, 5, 1), 46)]), ('UC84RYorF7UcJzt_iAYXBisA', [(datetime.date(2021, 3, 1), 20), (datetime.date(2021, 4, 1), 32), (datetime.date(2021, 5, 1), 16)]), ('UCXtQTtPJedfjqEPysorbsMg', [(datetime.date(2021, 3, 1), 19), (datetime.date(2021, 4, 1), 23), (datetime.date(2021, 5, 1), 32)]), ('UCNjTjd2-PMC8Oo_-dCEss7A', [(datetime.date(2021, 3, 1), 19), (datetime.date(2021, 4, 1), 3), (datetime.date(2021, 5, 1), 4)]), ('UCIJ6TGsTcBlYGUj-zbL60EQ', [(datetime.date(2021, 3, 1), 19), (datetime.date(2021, 4, 1), 0), (datetime.date(2021, 5, 1), 34)]), ('UC6HjtF2rHZO8gAsX5FXF-Kg', [(datetime.date(2021, 3, 1), 18), (datetime.date(2021, 4, 1), 83), (datetime.date(2021, 5, 1), 56)]), ('UCSFaf99eT5T4wNN1O2Z3NZg', [(datetime.date(2021, 3, 1), 18), (datetime.date(2021, 4, 1), 40), (datetime.date(2021, 5, 1), 14)]), ('UC0e6zo8oX6ISSBjPaSZsjeA', [(datetime.date(2021, 3, 1), 18), (datetime.date(2021, 4, 1), 31), (datetime.date(2021, 5, 1), 41)]), ('UCNwo7eikmX5HPs7NedWVBgw', [(datetime.date(2021, 3, 1), 18), (datetime.date(2021, 4, 1), 17), (datetime.date(2021, 5, 1), 23)]), ('UCHK5wkevfaGrPr7j3g56Jmw', [(datetime.date(2021, 3, 1), 17), (datetime.date(2021, 4, 1), 52), (datetime.date(2021, 5, 1), 87)]), ('UCjGE11ZnF0JSR8egVAwh-3A', [(datetime.date(2021, 3, 1), 17), (datetime.date(2021, 4, 1), 0), (datetime.date(2021, 5, 1), 107)]), ('UCdCczCYPOeP5hTfbx6tzz_A', [(datetime.date(2021, 3, 1), 16), (datetime.date(2021, 4, 1), 142), (datetime.date(2021, 5, 1), 20)]), ('UC8jskpQfW9fn2NLK3PdaGdg', [(datetime.date(2021, 3, 1), 16), (datetime.date(2021, 4, 1), 47), (datetime.date(2021, 5, 1), 29)]), ('UCwXOUuxUxCJ1yD0JfogUvMg', [(datetime.date(2021, 3, 1), 15), (datetime.date(2021, 4, 1), 17), (datetime.date(2021, 5, 1), 43)]), ('UCUtKkGKef8BYMs3h-3zQm9A', [(datetime.date(2021, 3, 1), 14), (datetime.date(2021, 4, 1), 48), (datetime.date(2021, 5, 1), 24)]), ('UC7hffDQLKIEG-_zoAQkMIvg', [(datetime.date(2021, 3, 1), 14), (datetime.date(2021, 4, 1), 22), (datetime.date(2021, 5, 1), 80)]), ('UCUKngXhjnKJ6KCyuC7ejI_w', [(datetime.date(2021, 3, 1), 14), (datetime.date(2021, 4, 1), 18), (datetime.date(2021, 5, 1), 15)]), ('UCTEZGNJDqv-isWSPRsEhnRA', [(datetime.date(2021, 3, 1), 14), (datetime.date(2021, 4, 1), 16), (datetime.date(2021, 5, 1), 50)]), ('UCWz0CSYCxf4MhRKPDm220AQ', [(datetime.date(2021, 3, 1), 13), (datetime.date(2021, 4, 1), 72), (datetime.date(2021, 5, 1), 28)]), ('UCHccxX2p_9DB_HPnXSb2omw', [(datetime.date(2021, 3, 1), 13), (datetime.date(2021, 4, 1), 25), (datetime.date(2021, 5, 1), 42)]), ('UCJ6LH4jMNy0JN9RSThz1mMQ', [(datetime.date(2021, 3, 1), 13), (datetime.date(2021, 4, 1), 23), (datetime.date(2021, 5, 1), 30)]), ('UC0WwEfE-jOM2rzjpdfhTzZA', [(datetime.date(2021, 3, 1), 12), (datetime.date(2021, 4, 1), 107), (datetime.date(2021, 5, 1), 434)]), ('UCbFwe3COkDrbNsbMyGNCsDg', [(datetime.date(2021, 3, 1), 12), (datetime.date(2021, 4, 1), 82), (datetime.date(2021, 5, 1), 98)]), ('UCnzZmBOSrQf2wDBbnsDajVw', [(datetime.date(2021, 3, 1), 12), (datetime.date(2021, 4, 1), 32), (datetime.date(2021, 5, 1), 29)]), ('UCQ7KYc1-IMQ8_Uz7XTE5DWw', [(datetime.date(2021, 3, 1), 12), (datetime.date(2021, 4, 1), 11), (datetime.date(2021, 5, 1), 23)]), ('UCcD_EdnJcOjJMohDn435D3w', [(datetime.date(2021, 3, 1), 11), (datetime.date(2021, 4, 1), 38), (datetime.date(2021, 5, 1), 24)]), ('UC3lNFeJiTq6L3UWoz4g1e-A', [(datetime.date(2021, 3, 1), 11), (datetime.date(2021, 4, 1), 18), (datetime.date(2021, 5, 1), 12)]), ('UCf6J4I7NwMXtuIU8YZKAjCA', [(datetime.date(2021, 3, 1), 11), (datetime.date(2021, 4, 1), 18), (datetime.date(2021, 5, 1), 0)]), ('UCE0KFKU_O2FkHljyayB7kXw', [(datetime.date(2021, 3, 1), 11), (datetime.date(2021, 4, 1), 10), (datetime.date(2021, 5, 1), 0)]), ('UCMzVa7B8UEdrvUGsPmSgyjA', [(datetime.date(2021, 3, 1), 11), (datetime.date(2021, 4, 1), 8), (datetime.date(2021, 5, 1), 17)]), ('UCJA_J8CpKRT78Sr1bylS1vA', [(datetime.date(2021, 3, 1), 10), (datetime.date(2021, 4, 1), 35), (datetime.date(2021, 5, 1), 32)]), ('UC3-jXrZXv-PQshpaTQpicPQ', [(datetime.date(2021, 3, 1), 10), (datetime.date(2021, 4, 1), 32), (datetime.date(2021, 5, 1), 46)]), ('UCA3WE2WRSpoIvtnoVGq4VAw', [(datetime.date(2021, 3, 1), 10), (datetime.date(2021, 4, 1), 31), (datetime.date(2021, 5, 1), 18)]), ('UCpRXCTyNNa-MnjhK6gisnRw', [(datetime.date(2021, 3, 1), 10), (datetime.date(2021, 4, 1), 26), (datetime.date(2021, 5, 1), 20)]), ('UCpPuEfqwYbpn7e2jWdQeWew', [(datetime.date(2021, 3, 1), 10), (datetime.date(2021, 4, 1), 21), (datetime.date(2021, 5, 1), 10)]), ('UCBe_jjkUHhVNAj46bukAbJA', [(datetime.date(2021, 3, 1), 10), (datetime.date(2021, 4, 1), 13), (datetime.date(2021, 5, 1), 20)]), ('UCmWqYB6y8gSfPONWGspuOWQ', [(datetime.date(2021, 3, 1), 9), (datetime.date(2021, 4, 1), 26), (datetime.date(2021, 5, 1), 49)]), ('UCHjeZylSgXDSnor8wUnwU_g', [(datetime.date(2021, 3, 1), 9), (datetime.date(2021, 4, 1), 9), (datetime.date(2021, 5, 1), 26)]), ('UCJQMHCFjVZOVRYafR6gY04Q', [(datetime.date(2021, 3, 1), 8), (datetime.date(2021, 4, 1), 5), (datetime.date(2021, 5, 1), 7)]), ('UCtjQoCilYbnxUXquXcVU3uA', [(datetime.date(2021, 3, 1), 7), (datetime.date(2021, 4, 1), 28), (datetime.date(2021, 5, 1), 27)]), ('UC6TfqY40Xt1Y0J-N18c85qQ', [(datetime.date(2021, 3, 1), 7), (datetime.date(2021, 4, 1), 27), (datetime.date(2021, 5, 1), 90)]), ('UC0QzO6nK1cEDZvJSt2769Zw', [(datetime.date(2021, 3, 1), 7), (datetime.date(2021, 4, 1), 17), (datetime.date(2021, 5, 1), 8)]), ('UCAHXqn4nAd2j3LRu1Qyi_JA', [(datetime.date(2021, 3, 1), 7), (datetime.date(2021, 4, 1), 13), (datetime.date(2021, 5, 1), 0)]), ('UC9127w5CLmWugWcpdGGuKOA', [(datetime.date(2021, 3, 1), 7), (datetime.date(2021, 4, 1), 6), (datetime.date(2021, 5, 1), 6)]), ('UCijNnZ-6m8g85UGaRAWuw7g', [(datetime.date(2021, 3, 1), 7), (datetime.date(2021, 4, 1), 5), (datetime.date(2021, 5, 1), 5)]), ('UC1QgXt46-GEvtNjEC1paHnw', [(datetime.date(2021, 3, 1), 6), (datetime.date(2021, 4, 1), 118), (datetime.date(2021, 5, 1), 68)]), ('UCmqrvfLMws-GLGHQcB5dasg', [(datetime.date(2021, 3, 1), 6), (datetime.date(2021, 4, 1), 30), (datetime.date(2021, 5, 1), 42)]), ('UCCHH0nWYXFZmtDS_4tvMxHQ', [(datetime.date(2021, 3, 1), 6), (datetime.date(2021, 4, 1), 28), (datetime.date(2021, 5, 1), 61)]), ('UCoupL81t75_Z4XRKzOSHLbg', [(datetime.date(2021, 3, 1), 6), (datetime.date(2021, 4, 1), 11), (datetime.date(2021, 5, 1), 15)]), ('UC5yckZliCkuaEFbqzLBD7hQ', [(datetime.date(2021, 3, 1), 6), (datetime.date(2021, 4, 1), 11), (datetime.date(2021, 5, 1), 9)]), ('UCqo0CAZ46l6ic3A_LfhEgHg', [(datetime.date(2021, 3, 1), 6), (datetime.date(2021, 4, 1), 9), (datetime.date(2021, 5, 1), 6)]), ('UCigpSsgPbdCxXtbfGksFIYQ', [(datetime.date(2021, 3, 1), 6), (datetime.date(2021, 4, 1), 7), (datetime.date(2021, 5, 1), 10)]), ('UCdrQWcX7XLDSUEh9SAxnyBg', [(datetime.date(2021, 3, 1), 5), (datetime.date(2021, 4, 1), 24), (datetime.date(2021, 5, 1), 23)]), ('UCLQIMDHNE0ZGAiHIdMbq7dw', [(datetime.date(2021, 3, 1), 5), (datetime.date(2021, 4, 1), 14), (datetime.date(2021, 5, 1), 32)]), ('UCrR7JxkbeLY82e8gsj_I0pQ', [(datetime.date(2021, 3, 1), 5), (datetime.date(2021, 4, 1), 6), (datetime.date(2021, 5, 1), 6)]), ('UC0lik9pHju6ONgkBh7N5wHw', [(datetime.date(2021, 3, 1), 5), (datetime.date(2021, 4, 1), 3), (datetime.date(2021, 5, 1), 0)]), ('UC6oW4FXETgEGOFTxWmI2h5Q', [(datetime.date(2021, 3, 1), 4), (datetime.date(2021, 4, 1), 243), (datetime.date(2021, 5, 1), 0)]), ('UC_aB_-PHLFHiP61djM0oOiQ', [(datetime.date(2021, 3, 1), 4), (datetime.date(2021, 4, 1), 49), (datetime.date(2021, 5, 1), 0)]), ('UCSlv7Z-4q7_7NRkzJB10A5Q', [(datetime.date(2021, 3, 1), 4), (datetime.date(2021, 4, 1), 38), (datetime.date(2021, 5, 1), 45)]), ('UCjFu-9GHnabzSFRAYm1B9Dw', [(datetime.date(2021, 3, 1), 4), (datetime.date(2021, 4, 1), 8), (datetime.date(2021, 5, 1), 4)]), ('UCFrH3bfn7gDeV29wrHHM80g', [(datetime.date(2021, 3, 1), 4), (datetime.date(2021, 4, 1), 7), (datetime.date(2021, 5, 1), 18)]), ('UCxmbiuI6Gyyln9Ec7uZ-8wQ', [(datetime.date(2021, 3, 1), 4), (datetime.date(2021, 4, 1), 4), (datetime.date(2021, 5, 1), 0)]), ('UClf0kZBKcBVKVOAjGEGbQ-A', [(datetime.date(2021, 3, 1), 3), (datetime.date(2021, 4, 1), 31), (datetime.date(2021, 5, 1), 9)]), ('UCiSRx1a2k-0tOg-fs6gAolQ', [(datetime.date(2021, 3, 1), 3), (datetime.date(2021, 4, 1), 11), (datetime.date(2021, 5, 1), 73)]), ('UCsVUXbx_h0YEvfH41Zwa_5w', [(datetime.date(2021, 3, 1), 3), (datetime.date(2021, 4, 1), 8), (datetime.date(2021, 5, 1), 7)]), ('UCpBCiBjOoZanFhj-49LgcDg', [(datetime.date(2021, 3, 1), 3), (datetime.date(2021, 4, 1), 8), (datetime.date(2021, 5, 1), 7)]), ('UCyRkQSuhJILuGOuXk10voPg', [(datetime.date(2021, 3, 1), 3), (datetime.date(2021, 4, 1), 7), (datetime.date(2021, 5, 1), 10)]), ('UC8Snw5i4eOJXEQqURAK17hQ', [(datetime.date(2021, 3, 1), 3), (datetime.date(2021, 4, 1), 4), (datetime.date(2021, 5, 1), 2)]), ('UC3iwL9Yz8LcKkJsnLPevOTQ', [(datetime.date(2021, 3, 1), 2), (datetime.date(2021, 4, 1), 25), (datetime.date(2021, 5, 1), 7)]), ('UCg8TPE5nLLOqlNnBivmQwww', [(datetime.date(2021, 3, 1), 2), (datetime.date(2021, 4, 1), 15), (datetime.date(2021, 5, 1), 11)]), ('UClS6k3w1sPwlVFqK3-yID5A', [(datetime.date(2021, 3, 1), 2), (datetime.date(2021, 4, 1), 14), (datetime.date(2021, 5, 1), 24)]), ('UCZ5dNZsqBjBzbBl0l_IdmXg', [(datetime.date(2021, 3, 1), 2), (datetime.date(2021, 4, 1), 12), (datetime.date(2021, 5, 1), 12)]), ('UCRXBTd80F5IIWWY4HatJ5Ug', [(datetime.date(2021, 3, 1), 2), (datetime.date(2021, 4, 1), 7), (datetime.date(2021, 5, 1), 5)]), ('UCk5r533QVMgJUdWwqegH2TA', [(datetime.date(2021, 3, 1), 2), (datetime.date(2021, 4, 1), 6), (datetime.date(2021, 5, 1), 6)]), ('UCghSSXNbZRmPAv3UaS8g21A', [(datetime.date(2021, 3, 1), 2), (datetime.date(2021, 4, 1), 4), (datetime.date(2021, 5, 1), 5)]), ('UCkL9OLKjIQbKk2CztbpOCFg', [(datetime.date(2021, 3, 1), 2), (datetime.date(2021, 4, 1), 2), (datetime.date(2021, 5, 1), 7)]), ('UCORH-VrhMk_S24HzI0jSQEA', [(datetime.date(2021, 3, 1), 2), (datetime.date(2021, 4, 1), 2), (datetime.date(2021, 5, 1), 2)]), ('UChgPVLjqugDQpRLWvC7zzig', [(datetime.date(2021, 3, 1), 2), (datetime.date(2021, 4, 1), 0), (datetime.date(2021, 5, 1), 2)]), ('UC46Wizhr_xgL9Rm9onVkPQQ', [(datetime.date(2021, 3, 1), 1), (datetime.date(2021, 4, 1), 12), (datetime.date(2021, 5, 1), 25)]), ('UCBIR44irWpj1eTx0ZQFofHg', [(datetime.date(2021, 3, 1), 1), (datetime.date(2021, 4, 1), 10), (datetime.date(2021, 5, 1), 3)]), ('UCoWH3sDpeXG1aXmOxveX4KA', [(datetime.date(2021, 3, 1), 1), (datetime.date(2021, 4, 1), 5), (datetime.date(2021, 5, 1), 5)]), ('UCxI2sKOL2JPX0SQwwKZFafQ', [(datetime.date(2021, 3, 1), 1), (datetime.date(2021, 4, 1), 0), (datetime.date(2021, 5, 1), 0)]), ('UCb5JxV6vKlYVknoJB8TnyYg', [(datetime.date(2021, 3, 1), 0), (datetime.date(2021, 4, 1), 778), (datetime.date(2021, 5, 1), 0)]), ('UC5LyYg6cCA4yHEYvtUsir3g', [(datetime.date(2021, 3, 1), 0), (datetime.date(2021, 4, 1), 490), (datetime.date(2021, 5, 1), 393)]), ('UCveZ9Ic1VtcXbsyaBgxPMvg', [(datetime.date(2021, 3, 1), 0), (datetime.date(2021, 4, 1), 426), (datetime.date(2021, 5, 1), 217)]), ('UCAr7rLi_Wn09G-XfTA07d4g', [(datetime.date(2021, 3, 1), 0), (datetime.date(2021, 4, 1), 315), (datetime.date(2021, 5, 1), 305)]), ('UCjXBuHmWkieBApgBhDuJMMQ', [(datetime.date(2021, 3, 1), 0), (datetime.date(2021, 4, 1), 296), (datetime.date(2021, 5, 1), 352)]), ('UCBC7vYFNQoGPupe5NxPG4Bw', [(datetime.date(2021, 3, 1), 0), (datetime.date(2021, 4, 1), 281), (datetime.date(2021, 5, 1), 318)]), ('UCmUjjW5zF1MMOhYUwwwQv9Q', [(datetime.date(2021, 3, 1), 0), (datetime.date(2021, 4, 1), 236), (datetime.date(2021, 5, 1), 0)]), ('UC3Ruo_5doyu514PesWGvCAg', [(datetime.date(2021, 3, 1), 0), (datetime.date(2021, 4, 1), 229), (datetime.date(2021, 5, 1), 154)]), ('UCvUc0m317LWTTPZoBQV479A', [(datetime.date(2021, 3, 1), 0), (datetime.date(2021, 4, 1), 182), (datetime.date(2021, 5, 1), 363)]), ('UCxBmyZNQDFJVr9-ZE7hAYfA', [(datetime.date(2021, 3, 1), 0), (datetime.date(2021, 4, 1), 159), (datetime.date(2021, 5, 1), 0)]), ('UCIcAj6WkJ8vZ7DeJVgmeqKw', [(datetime.date(2021, 3, 1), 0), (datetime.date(2021, 4, 1), 153), (datetime.date(2021, 5, 1), 168)]), ('UCpNH2Zk2gw3JBjWAKSyZcQQ', [(datetime.date(2021, 3, 1), 0), (datetime.date(2021, 4, 1), 137), (datetime.date(2021, 5, 1), 162)]), ('UCFEd5V7VcxBPPcuMGpmvkQA', [(datetime.date(2021, 3, 1), 0), (datetime.date(2021, 4, 1), 119), (datetime.date(2021, 5, 1), 306)]), ('UCOobfYvyNQqWHBpEaMnXr7w', [(datetime.date(2021, 3, 1), 0), (datetime.date(2021, 4, 1), 114), (datetime.date(2021, 5, 1), 0)]), ('UC1ucgoC_sGww_Euu5iMqpQw', [(datetime.date(2021, 3, 1), 0), (datetime.date(2021, 4, 1), 113), (datetime.date(2021, 5, 1), 121)]), ('UCRWOdwLRsenx2jLaiCAIU4A', [(datetime.date(2021, 3, 1), 0), (datetime.date(2021, 4, 1), 102), (datetime.date(2021, 5, 1), 64)]), ('UC7XCjKxBEct0uAukpQXNFPw', [(datetime.date(2021, 3, 1), 0), (datetime.date(2021, 4, 1), 99), (datetime.date(2021, 5, 1), 159)]), ('UCBAeKqEIugv69Q2GIgcH7oA', [(datetime.date(2021, 3, 1), 0), (datetime.date(2021, 4, 1), 95), (datetime.date(2021, 5, 1), 160)]), ('UCxrmkJf_X1Yhte_a4devFzA', [(datetime.date(2021, 3, 1), 0), (datetime.date(2021, 4, 1), 89), (datetime.date(2021, 5, 1), 232)]), ('UCBi8YaVyZpiKWN3_Z0dCTfQ', [(datetime.date(2021, 3, 1), 0), (datetime.date(2021, 4, 1), 84), (datetime.date(2021, 5, 1), 0)]), ('UCixf-9nmnPzTGeJTdW6TS-Q', [(datetime.date(2021, 3, 1), 0), (datetime.date(2021, 4, 1), 82), (datetime.date(2021, 5, 1), 119)]), ('UCyLGcqYs7RsBb3L0SJfzGYA', [(datetime.date(2021, 3, 1), 0), (datetime.date(2021, 4, 1), 80), (datetime.date(2021, 5, 1), 289)]), ('UC--zuEfONeFXPvLqX0Kvbuw', [(datetime.date(2021, 3, 1), 0), (datetime.date(2021, 4, 1), 75), (datetime.date(2021, 5, 1), 81)]), ('UCurEA8YoqFwimJcAuSHU0MQ', [(datetime.date(2021, 3, 1), 0), (datetime.date(2021, 4, 1), 69), (datetime.date(2021, 5, 1), 79)]), ('UCP3pDau1JBOukp4AjyFCgHQ', [(datetime.date(2021, 3, 1), 0), (datetime.date(2021, 4, 1), 69), (datetime.date(2021, 5, 1), 71)]), ('UCgTzsBI0DIRopMylJEDqnog', [(datetime.date(2021, 3, 1), 0), (datetime.date(2021, 4, 1), 58), (datetime.date(2021, 5, 1), 15)]), ('UCnvVG9RbOW3J6Ifqo-zKLiw', [(datetime.date(2021, 3, 1), 0), (datetime.date(2021, 4, 1), 55), (datetime.date(2021, 5, 1), 43)]), ('UCPZgBtMYoFKypEG2SCvBN9A', [(datetime.date(2021, 3, 1), 0), (datetime.date(2021, 4, 1), 51), (datetime.date(2021, 5, 1), 110)]), ('UCebT4Aq-3XWb5je1S1FvR_A', [(datetime.date(2021, 3, 1), 0), (datetime.date(2021, 4, 1), 41), (datetime.date(2021, 5, 1), 111)]), ('UCF_U2GCKHvDz52jWdizppIA', [(datetime.date(2021, 3, 1), 0), (datetime.date(2021, 4, 1), 41), (datetime.date(2021, 5, 1), 48)]), ('UCMp55EbT_ZlqiMS3lCj01BQ', [(datetime.date(2021, 3, 1), 0), (datetime.date(2021, 4, 1), 39), (datetime.date(2021, 5, 1), 80)]), ('UCIu-aUArYq_H84dBpCAokMA', [(datetime.date(2021, 3, 1), 0), (datetime.date(2021, 4, 1), 38), (datetime.date(2021, 5, 1), 326)]), ('UCPkhI1WcLilaKu44B5p0jZg', [(datetime.date(2021, 3, 1), 0), (datetime.date(2021, 4, 1), 38), (datetime.date(2021, 5, 1), 0)]), ('UChrTMfNcD1eN2ENGWBD7lUQ', [(datetime.date(2021, 3, 1), 0), (datetime.date(2021, 4, 1), 31), (datetime.date(2021, 5, 1), 296)]), ('UCf-PcSHzYAtfcoiBr5C9DZA', [(datetime.date(2021, 3, 1), 0), (datetime.date(2021, 4, 1), 31), (datetime.date(2021, 5, 1), 22)]), ('UCvzVB-EYuHFXHZrObB8a_Og', [(datetime.date(2021, 3, 1), 0), (datetime.date(2021, 4, 1), 30), (datetime.date(2021, 5, 1), 70)]), ('UCMYtONm441rBogWK_xPH9HA', [(datetime.date(2021, 3, 1), 0), (datetime.date(2021, 4, 1), 25), (datetime.date(2021, 5, 1), 26)]), ('UClqZm49qdCGaV96s2ZN9--Q', [(datetime.date(2021, 3, 1), 0), (datetime.date(2021, 4, 1), 24), (datetime.date(2021, 5, 1), 0)]), ('UCftJR3Qm0LyEuEQue1QYytA', [(datetime.date(2021, 3, 1), 0), (datetime.date(2021, 4, 1), 23), (datetime.date(2021, 5, 1), 46)]), ('UCGWa1dMU_sDCaRQjdabsVgg', [(datetime.date(2021, 3, 1), 0), (datetime.date(2021, 4, 1), 22), (datetime.date(2021, 5, 1), 76)]), ('UC5Xse6X7vB_nUL5HvEFVo_g', [(datetime.date(2021, 3, 1), 0), (datetime.date(2021, 4, 1), 21), (datetime.date(2021, 5, 1), 14)]), ('UCy5lOmEQoivK5XK7QCaRKug', [(datetime.date(2021, 3, 1), 0), (datetime.date(2021, 4, 1), 20), (datetime.date(2021, 5, 1), 62)]), ('UCyTw66xE5YkeTL2YduA69QQ', [(datetime.date(2021, 3, 1), 0), (datetime.date(2021, 4, 1), 18), (datetime.date(2021, 5, 1), 0)]), ('UCxn-IeA9DCFxUthBk6rYdQQ', [(datetime.date(2021, 3, 1), 0), (datetime.date(2021, 4, 1), 15), (datetime.date(2021, 5, 1), 31)]), ('UCSgheR9xOIcQjlkeXqIofLQ', [(datetime.date(2021, 3, 1), 0), (datetime.date(2021, 4, 1), 11), (datetime.date(2021, 5, 1), 30)]), ('UCbfv8uuUXt3RSJGEwxny5Rw', [(datetime.date(2021, 3, 1), 0), (datetime.date(2021, 4, 1), 10), (datetime.date(2021, 5, 1), 0)]), ('UCAvgFoTWEisO5Pp7eYVDgEw', [(datetime.date(2021, 3, 1), 0), (datetime.date(2021, 4, 1), 9), (datetime.date(2021, 5, 1), 20)]), ('UCjtEttSHpJacfd7a6fc4VXQ', [(datetime.date(2021, 3, 1), 0), (datetime.date(2021, 4, 1), 7), (datetime.date(2021, 5, 1), 74)]), ('UC5qSx7KzdRwbsO1QmJc4d-w', [(datetime.date(2021, 3, 1), 0), (datetime.date(2021, 4, 1), 3), (datetime.date(2021, 5, 1), 10)]), ('UCGFD_8TRHhlpjfqGhLUSk4g', [(datetime.date(2021, 3, 1), 0), (datetime.date(2021, 4, 1), 3), (datetime.date(2021, 5, 1), 0)]), ('UCfwAKc_vwVTzTcm1wki8oHg', [(datetime.date(2021, 3, 1), 0), (datetime.date(2021, 4, 1), 2), (datetime.date(2021, 5, 1), 0)]), ('UC_fYA9QRK-aJnFTgvR_4zug', [(datetime.date(2021, 3, 1), 0), (datetime.date(2021, 4, 1), 1), (datetime.date(2021, 5, 1), 4)]), ('UCE5rWcDxLPaaUFWOxzJFfNg', [(datetime.date(2021, 3, 1), 0), (datetime.date(2021, 4, 1), 1), (datetime.date(2021, 5, 1), 2)]), ('UC3xG1XWzAKt5dxSxktJvtxg', [(datetime.date(2021, 3, 1), 0), (datetime.date(2021, 4, 1), 0), (datetime.date(2021, 5, 1), 478)]), ('UCqskJ0nmw-_eweWfsKvbrzQ', [(datetime.date(2021, 3, 1), 0), (datetime.date(2021, 4, 1), 0), (datetime.date(2021, 5, 1), 433)]), ('UCzKkwB84Y0ql0EvyOWRSkEw', [(datetime.date(2021, 3, 1), 0), (datetime.date(2021, 4, 1), 0), (datetime.date(2021, 5, 1), 348)]), ('UC7YXqPO3eUnxbJ6rN0z2z1Q', [(datetime.date(2021, 3, 1), 0), (datetime.date(2021, 4, 1), 0), (datetime.date(2021, 5, 1), 289)]), ('UCIdEIHpS0TdkqRkHL5OkLtA', [(datetime.date(2021, 3, 1), 0), (datetime.date(2021, 4, 1), 0), (datetime.date(2021, 5, 1), 275)]), ('UCfuz6xYbYFGsWWBi3SpJI1w', [(datetime.date(2021, 3, 1), 0), (datetime.date(2021, 4, 1), 0), (datetime.date(2021, 5, 1), 242)]), ('UCt7_srJeiw55kTcK7M9ID6g', [(datetime.date(2021, 3, 1), 0), (datetime.date(2021, 4, 1), 0), (datetime.date(2021, 5, 1), 185)]), ('UCIzspiyqiPDtfND-3MlQ41A', [(datetime.date(2021, 3, 1), 0), (datetime.date(2021, 4, 1), 0), (datetime.date(2021, 5, 1), 170)]), ('UCIRzELGzTVUOARi3Gwf1-yg', [(datetime.date(2021, 3, 1), 0), (datetime.date(2021, 4, 1), 0), (datetime.date(2021, 5, 1), 162)]), ('UCiMG6VdScBabPhJ1ZtaVmbw', [(datetime.date(2021, 3, 1), 0), (datetime.date(2021, 4, 1), 0), (datetime.date(2021, 5, 1), 161)]), ('UC7Gow-kNHq21oejSIDg9PAg', [(datetime.date(2021, 3, 1), 0), (datetime.date(2021, 4, 1), 0), (datetime.date(2021, 5, 1), 112)]), ('UCgttI8QfdWhvd3SRtCYcJzw', [(datetime.date(2021, 3, 1), 0), (datetime.date(2021, 4, 1), 0), (datetime.date(2021, 5, 1), 102)]), ('UCnYhIk9aGEx_bIgheVjs53w', [(datetime.date(2021, 3, 1), 0), (datetime.date(2021, 4, 1), 0), (datetime.date(2021, 5, 1), 98)]), ('UCc5bWVuWyL74ngKNjm49hdw', [(datetime.date(2021, 3, 1), 0), (datetime.date(2021, 4, 1), 0), (datetime.date(2021, 5, 1), 95)]), ('UCFG6teapZaN6J1oVXl7MYPA', [(datetime.date(2021, 3, 1), 0), (datetime.date(2021, 4, 1), 0), (datetime.date(2021, 5, 1), 89)]), ('UCsiKFVHkQSMlSe0vaCG0anw', [(datetime.date(2021, 3, 1), 0), (datetime.date(2021, 4, 1), 0), (datetime.date(2021, 5, 1), 77)]), ('UCOfuarJ9_C5OAD0mGS7KCyg', [(datetime.date(2021, 3, 1), 0), (datetime.date(2021, 4, 1), 0), (datetime.date(2021, 5, 1), 76)]), ('UCmaDYcJHNFrZ5Owuz-KM-Jw', [(datetime.date(2021, 3, 1), 0), (datetime.date(2021, 4, 1), 0), (datetime.date(2021, 5, 1), 74)]), ('UCZ1WJDkMNiZ_QwHnNrVf7Pw', [(datetime.date(2021, 3, 1), 0), (datetime.date(2021, 4, 1), 0), (datetime.date(2021, 5, 1), 73)]), ('UCckQQRZVF9x2GjroBjNIX_Q', [(datetime.date(2021, 3, 1), 0), (datetime.date(2021, 4, 1), 0), (datetime.date(2021, 5, 1), 73)]), ('UCPdKdMpXlmwcGdfiUTNusfg', [(datetime.date(2021, 3, 1), 0), (datetime.date(2021, 4, 1), 0), (datetime.date(2021, 5, 1), 71)]), ('UCMxKcUjeTEcgHmC9Zzn3R4w', [(datetime.date(2021, 3, 1), 0), (datetime.date(2021, 4, 1), 0), (datetime.date(2021, 5, 1), 70)]), ('UCiBXVFuA-IPRrmb9r5cTT2w', [(datetime.date(2021, 3, 1), 0), (datetime.date(2021, 4, 1), 0), (datetime.date(2021, 5, 1), 61)]), ('UC4SUl-nTftCcl3t7NKPd0_Q', [(datetime.date(2021, 3, 1), 0), (datetime.date(2021, 4, 1), 0), (datetime.date(2021, 5, 1), 60)]), ('UCyKsg-57XC9pyHbP7v3kCPQ', [(datetime.date(2021, 3, 1), 0), (datetime.date(2021, 4, 1), 0), (datetime.date(2021, 5, 1), 53)]), ('UCr9p1ZjLKgfaoqNorY7PiWQ', [(datetime.date(2021, 3, 1), 0), (datetime.date(2021, 4, 1), 0), (datetime.date(2021, 5, 1), 53)]), ('UC7wZb5INldbGweowOhBIs8Q', [(datetime.date(2021, 3, 1), 0), (datetime.date(2021, 4, 1), 0), (datetime.date(2021, 5, 1), 51)]), ('UCfeznQrLe9URem6xJmWQVlw', [(datetime.date(2021, 3, 1), 0), (datetime.date(2021, 4, 1), 0), (datetime.date(2021, 5, 1), 50)]), ('UCL4UZHX-26xAtVT4Jys5A1Q', [(datetime.date(2021, 3, 1), 0), (datetime.date(2021, 4, 1), 0), (datetime.date(2021, 5, 1), 47)]), ('UCBJFsaCvgBa1a9BnEaxu97Q', [(datetime.date(2021, 3, 1), 0), (datetime.date(2021, 4, 1), 0), (datetime.date(2021, 5, 1), 43)]), ('UCAE1yQeCWiv1eSxAmzpzD4Q', [(datetime.date(2021, 3, 1), 0), (datetime.date(2021, 4, 1), 0), (datetime.date(2021, 5, 1), 40)]), ('UC7A7bGRVdIwo93nqnA3x-OQ', [(datetime.date(2021, 3, 1), 0), (datetime.date(2021, 4, 1), 0), (datetime.date(2021, 5, 1), 38)]), ('UCah4_WVjmr8XA7i5aigwV-Q', [(datetime.date(2021, 3, 1), 0), (datetime.date(2021, 4, 1), 0), (datetime.date(2021, 5, 1), 35)]), ('UCRWF6QSuklmwY3UJHyVTQ1w', [(datetime.date(2021, 3, 1), 0), (datetime.date(2021, 4, 1), 0), (datetime.date(2021, 5, 1), 34)]), ('UCZfQRuwSLty74QAj55BaKlA', [(datetime.date(2021, 3, 1), 0), (datetime.date(2021, 4, 1), 0), (datetime.date(2021, 5, 1), 32)]), ('UC2hWFlqMew61Jy6A8zu5HzQ', [(datetime.date(2021, 3, 1), 0), (datetime.date(2021, 4, 1), 0), (datetime.date(2021, 5, 1), 32)]), ('UCi6nV5Z2dzFuXBzLG3P9zqQ', [(datetime.date(2021, 3, 1), 0), (datetime.date(2021, 4, 1), 0), (datetime.date(2021, 5, 1), 30)]), ('UCNV41fU_c4IvhrwHhGKSWLA', [(datetime.date(2021, 3, 1), 0), (datetime.date(2021, 4, 1), 0), (datetime.date(2021, 5, 1), 30)]), ('UCQ1U65-CQdIoZ2_NA4Z4F7A', [(datetime.date(2021, 3, 1), 0), (datetime.date(2021, 4, 1), 0), (datetime.date(2021, 5, 1), 29)]), ('UCeGendL8CO5RkffB6IFwHow', [(datetime.date(2021, 3, 1), 0), (datetime.date(2021, 4, 1), 0), (datetime.date(2021, 5, 1), 29)]), ('UCpHIwGHq_3OfX42cyfyJp-A', [(datetime.date(2021, 3, 1), 0), (datetime.date(2021, 4, 1), 0), (datetime.date(2021, 5, 1), 26)]), ('UCo5pboqAxtr5gOFSDBGD09w', [(datetime.date(2021, 3, 1), 0), (datetime.date(2021, 4, 1), 0), (datetime.date(2021, 5, 1), 23)]), ('UCMMnAFarbXqv6SEImoANlAQ', [(datetime.date(2021, 3, 1), 0), (datetime.date(2021, 4, 1), 0), (datetime.date(2021, 5, 1), 20)]), ('UCQgi2mK2f9l0Dky2-YhVTYQ', [(datetime.date(2021, 3, 1), 0), (datetime.date(2021, 4, 1), 0), (datetime.date(2021, 5, 1), 19)]), ('UCj_dHWD0o2k_Ef4lwcXd0Iw', [(datetime.date(2021, 3, 1), 0), (datetime.date(2021, 4, 1), 0), (datetime.date(2021, 5, 1), 18)]), ('UCDl5qfjqZR5MLN1pogAgBog', [(datetime.date(2021, 3, 1), 0), (datetime.date(2021, 4, 1), 0), (datetime.date(2021, 5, 1), 18)]), ('UCLjx3lqIkYkPCBJop8czJ2A', [(datetime.date(2021, 3, 1), 0), (datetime.date(2021, 4, 1), 0), (datetime.date(2021, 5, 1), 17)]), ('UCIClNlvEUvEqLe_rs_i8h_w', [(datetime.date(2021, 3, 1), 0), (datetime.date(2021, 4, 1), 0), (datetime.date(2021, 5, 1), 14)]), ('UCupxrBQzU803Gzm05ECJffw', [(datetime.date(2021, 3, 1), 0), (datetime.date(2021, 4, 1), 0), (datetime.date(2021, 5, 1), 13)]), ('UCnqDxEcVsvt7WpDy0px1HgA', [(datetime.date(2021, 3, 1), 0), (datetime.date(2021, 4, 1), 0), (datetime.date(2021, 5, 1), 12)]), ('UCyqzU2nq7eGNi4kN0uHx7TA', [(datetime.date(2021, 3, 1), 0), (datetime.date(2021, 4, 1), 0), (datetime.date(2021, 5, 1), 12)]), ('UC0RVF3KPjfS7WnH2xbpqghA', [(datetime.date(2021, 3, 1), 0), (datetime.date(2021, 4, 1), 0), (datetime.date(2021, 5, 1), 12)]), ('UCdsHTs3OOKj_ANMKnmbUASw', [(datetime.date(2021, 3, 1), 0), (datetime.date(2021, 4, 1), 0), (datetime.date(2021, 5, 1), 12)]), ('UC_kJ27jGTWYniW-Xy3Ms5Cw', [(datetime.date(2021, 3, 1), 0), (datetime.date(2021, 4, 1), 0), (datetime.date(2021, 5, 1), 10)]), ('UCo54dcvExskwhUZQ8KbidhQ', [(datetime.date(2021, 3, 1), 0), (datetime.date(2021, 4, 1), 0), (datetime.date(2021, 5, 1), 9)]), ('UC0Qt-ycVvKBcP5J_Xz44zTg', [(datetime.date(2021, 3, 1), 0), (datetime.date(2021, 4, 1), 0), (datetime.date(2021, 5, 1), 8)]), ('UCOmjciHZ8Au3iKMElKXCF_g', [(datetime.date(2021, 3, 1), 0), (datetime.date(2021, 4, 1), 0), (datetime.date(2021, 5, 1), 7)]), ('UCMIdnCqg2aqUS2V3ByzoBcg', [(datetime.date(2021, 3, 1), 0), (datetime.date(2021, 4, 1), 0), (datetime.date(2021, 5, 1), 7)]), ('UCO-FZDAG0mOvgu6jmGg1tiA', [(datetime.date(2021, 3, 1), 0), (datetime.date(2021, 4, 1), 0), (datetime.date(2021, 5, 1), 7)]), ('UCX3kDHyJjblueix0gAQ6aJA', [(datetime.date(2021, 3, 1), 0), (datetime.date(2021, 4, 1), 0), (datetime.date(2021, 5, 1), 5)]), ('UCil-nSDmDTgV9n4jjb95znw', [(datetime.date(2021, 3, 1), 0), (datetime.date(2021, 4, 1), 0), (datetime.date(2021, 5, 1), 1)]), ('UCxEyuO_ilEJ9P5BIbhASIew', [(datetime.date(2021, 3, 1), 0), (datetime.date(2021, 4, 1), 0), (datetime.date(2021, 5, 1), 1)])]\n"
          ]
        }
      ],
      "source": [
        "donations = sorted(channel_subscribers.items(), key=lambda item: item[1], reverse=True)\n",
        "\n",
        "print(donations)"
      ]
    },
    {
      "cell_type": "markdown",
      "metadata": {
        "id": "cWHMDdYifDNf"
      },
      "source": [
        "# Gephi"
      ]
    },
    {
      "cell_type": "code",
      "execution_count": null,
      "metadata": {
        "id": "9_rkqPHke-kB"
      },
      "outputs": [],
      "source": [
        "# Read a Parquet file into a Pandas DataFrame\n",
        "df = pd.read_parquet('/content/superchats_2021-03.parquet', engine='pyarrow')\n",
        "\n",
        "# Save the DataFrame to a CSV file named \"edges.csv\"\n",
        "df.to_csv('edges.csv', index=False)"
      ]
    },
    {
      "cell_type": "code",
      "execution_count": null,
      "metadata": {
        "id": "croYhdFffGaW"
      },
      "outputs": [],
      "source": [
        "# Read the edges data from a CSV file into a Pandas DataFrame\n",
        "edges_df = pd.read_csv('edges-superchat.csv')\n",
        "\n",
        "# Extract unique nodes from the 'Source' and 'Target' columns of the edges DataFrame\n",
        "unique_nodes = pd.unique(edges_df[['Source', 'Target']].values.ravel())\n",
        "\n",
        "# Create a new DataFrame for nodes, with each unique node as an entry in the \"Id\" column\n",
        "nodes_df = pd.DataFrame(unique_nodes, columns=[\"Id\"])\n",
        "\n",
        "# Create a \"Label\" column, assigning each node's ID as its label\n",
        "nodes_df[\"Label\"] = nodes_df[\"Id\"]\n",
        "\n",
        "# Save the nodes DataFrame to a CSV file named 'nodes.csv'\n",
        "nodes_df.to_csv(\"nodes.csv\", index=False)\n"
      ]
    },
    {
      "cell_type": "markdown",
      "metadata": {
        "id": "AfgesE8zVfVm"
      },
      "source": [
        "# PROTOTYPE"
      ]
    },
    {
      "cell_type": "code",
      "execution_count": null,
      "metadata": {
        "id": "tZrBHMlkVe56"
      },
      "outputs": [],
      "source": [
        "def the_analyzer_3000(Data):\n",
        "\n",
        "  from networkx.algorithms import community # Import community detection algorithms from NetworkX, its already imported but bug apears if I dont type inside functoin\n",
        "\n",
        "  # Convert the input data into a DataFrame using previosu function\n",
        "  sc = dataset_converter(Data)\n",
        "\n",
        "  # Apply the conversion to each row in the DataFrame and store the result in a new column\n",
        "  sc['amount_in_usd'] = sc.apply(convert_to_usd, axis=1)\n",
        "\n",
        "  # Round the 'amount_in_usd' column to 2 decimal places\n",
        "  sc['amount_in_usd'] = sc['amount_in_usd'].round(2)\n",
        "\n",
        "  # Create a directed graph from the processed dataset\n",
        "  graph = create_graph(sc)\n",
        "\n",
        "  # Printed input data name for clarity\n",
        "  print('Data:', {Data})\n",
        "\n",
        "  print()\n",
        "\n",
        "  # Identify the top 10 candidates for influencers and printing them out\n",
        "  best_in_candidate_streamer = top_in_candidate(graph)\n",
        "  print(\"Top 10 influencers candidate:\")\n",
        "  print(*best_in_candidate_streamer, sep='\\n')\n",
        "\n",
        "  print()\n",
        "\n",
        "  # Get the in-degree (number of donations received) of the top influencer candidate\n",
        "  top_in = graph.in_degree(best_in_candidate_streamer[0])\n",
        "\n",
        "  print(f\"Top influencers based of the number of earned donations: {top_in}\\n\")\n",
        "\n",
        "  # Calculate the total amount of donations received by the top influencer candidate\n",
        "  total_in_amount = sum(data['weight'] for _, _, data in graph.in_edges(best_in_candidate_streamer[0], data=True))\n",
        "  print(f'Total amount of earned US money from donation: {round(total_in_amount, 2)}\\n')\n",
        "\n",
        "  # Identify the top 10 candidates for donors based on out_degree\n",
        "  best_out_candidate_streamer = top_out_candidate(graph)\n",
        "  print(\"Top 10 donators candidate:\")\n",
        "  print(*best_out_candidate_streamer, sep='\\n')\n",
        "\n",
        "  print()\n",
        "\n",
        "  # Get the out-degree (number of donations made) of the top donor candidate\n",
        "  top_out = graph.out_degree(best_out_candidate_streamer[0])\n",
        "\n",
        "  print(f\"Top Donator based of total number of donations: {top_out}\\n\")\n",
        "\n",
        "  # Calculate the total amount of donations made by the top donor candidate\n",
        "  total_out_amount = sum(data['weight'] for _, _, data in graph.out_edges(best_out_candidate_streamer[0], data=True))\n",
        "  print(f'Total amount US money they donated: {round(total_out_amount, 2)}\\n')\n",
        "\n",
        "  return\n",
        "\n",
        "\n",
        "'''\n",
        "\n",
        "  Hoped top have implemented community d3etection but time didnt allow for it\n",
        "\n",
        "  communities = community.greedy_modularity_communities(graph)\n",
        "\n",
        "  num_communities = len(communities)\n",
        "\n",
        "  print(f\"Number of communities: {num_communities} \\n\")\n",
        "\n",
        "\n",
        "  for index, community in enumerate(communities):\n",
        "  #print(community)\n",
        "    community_total = 0\n",
        "    for node in community:\n",
        "      #print(node)\n",
        "      for edge in G.out_edges(node):\n",
        "        community_total += G[edge[0]][edge[1]][\"weight\"]\n",
        "    #print(index, community_total)\n",
        "    print(\"Community:\" + str(index) + \" $\" + str(community_total))\n",
        "\n",
        "'''"
      ]
    },
    {
      "cell_type": "markdown",
      "metadata": {
        "id": "lEBVNf_Dcvhv"
      },
      "source": [
        "# Temporal Analysis"
      ]
    },
    {
      "cell_type": "code",
      "execution_count": null,
      "metadata": {
        "colab": {
          "base_uri": "https://localhost:8080/"
        },
        "id": "mmtEP6Bcbocy",
        "outputId": "a5e78d2e-c11c-4093-fa8d-bda1bd13ad05"
      },
      "outputs": [
        {
          "name": "stdout",
          "output_type": "stream",
          "text": [
            "Data: {'superchats_2021-03.parquet'}\n",
            "\n",
            "Top 10 influencers candidate:\n",
            "('UCS9uQI-jC3DE0L4IpXyvr6w', 0.054090124038310566)\n",
            "('UC1DCedRgGHBdm81E1llLhOQ', 0.030172188203276287)\n",
            "('UCoSrY_IQQVpmIRZ9Xf-y93g', 0.028471240906474068)\n",
            "('UCFKOVgVbGmX65RxO3EtH3iw', 0.027293662008687915)\n",
            "('UCvzGlP9oQwU--Y0r9id_jnA', 0.02726749358873711)\n",
            "('UCHsx4Hqa-1ORjQTh9TYDhww', 0.026168419950803372)\n",
            "('UCqm3BQLlJfvkTsX_hvm0UmA', 0.02577589365154132)\n",
            "('UCCzUftO8KOVkV4wQG1vkUvg', 0.025723556811639712)\n",
            "('UCL_qhgtOy0dy1Agp8vkySQg', 0.02436279897419794)\n",
            "('UC1CfXB_kRs3C-zaeTG3oGyg', 0.023473072695870623)\n",
            "\n",
            "Top influencers based of the number of earned donations: [('UCS9uQI-jC3DE0L4IpXyvr6w', 2067)]\n",
            "\n",
            "Total amount of earned US money from donation: 87593.08\n",
            "\n",
            "Top 10 donators candidate:\n",
            "('358aaddc52d77d586905d46da9fcc644ca72e75e', 0.001203747317736955)\n",
            "('0d520b71c0fc01b9302d70ce21e15d14b051e039', 0.0005757052389176742)\n",
            "('c1b69e599e63ef6c16fdb024be82317376d043df', 0.0005495368189668708)\n",
            "('862f85a29fa903de2e3aa58497e166d136874e49', 0.0005495368189668708)\n",
            "('9104d24076566282f8b19b05e0bf7fb78c7be4d6', 0.000497199979065264)\n",
            "('86fc3699c144a81774bea74698ad3a9e74236238', 0.000497199979065264)\n",
            "('0dd1fd96cc090ec6640159a00e09b5f909217b61', 0.000497199979065264)\n",
            "('ba9c1c9823a7f0f84197d6130a354dfc1dbeb5db', 0.0004710315591144607)\n",
            "('c28d774059ad51e0781db6e3e13b362f77b204c8', 0.0004448631391636573)\n",
            "('bf9dc34c258c6db3ebbb3bd500be956f7f86834b', 0.00041869471921285393)\n",
            "\n",
            "Top Donator based of total number of donations: [('358aaddc52d77d586905d46da9fcc644ca72e75e', 46)]\n",
            "\n",
            "Total amount US money they donated: 272.67\n",
            "\n"
          ]
        }
      ],
      "source": [
        "the_analyzer_3000(\"superchats_2021-03.parquet\")"
      ]
    },
    {
      "cell_type": "code",
      "execution_count": null,
      "metadata": {
        "colab": {
          "base_uri": "https://localhost:8080/"
        },
        "id": "iC6Vd_KjSiWv",
        "outputId": "1c56d271-847a-44d3-8b20-5cd5b040a22d"
      },
      "outputs": [
        {
          "name": "stdout",
          "output_type": "stream",
          "text": [
            "Data: {'superchats_2021-04.parquet'}\n",
            "\n",
            "Top 10 influencers candidate:\n",
            "('UCS9uQI-jC3DE0L4IpXyvr6w', 0.06250576621459544)\n",
            "('UCAWSyEs_Io8MtpY3m-zqILA', 0.03916412953224468)\n",
            "('UCL_qhgtOy0dy1Agp8vkySQg', 0.03910262324322662)\n",
            "('UC-hM6YJuNYVAmUWxeIr9FeA', 0.0357659070639973)\n",
            "('UCdyqAaZDKHXg4Ahi7VENThQ', 0.03370544638189255)\n",
            "('UChAnqc_AY5_I3Px5dig3X1Q', 0.03344404465356583)\n",
            "('UCl_gCybOJRIgOXw6Qb4qJzQ', 0.03239843774025895)\n",
            "('UCvaTdHTWBGv3MKj3KVqJVCw', 0.03029184734139066)\n",
            "('UCoSrY_IQQVpmIRZ9Xf-y93g', 0.030015069040809427)\n",
            "('UCCzUftO8KOVkV4wQG1vkUvg', 0.029353876433865365)\n",
            "\n",
            "Top influencers based of the number of earned donations: [('UCS9uQI-jC3DE0L4IpXyvr6w', 4065)]\n",
            "\n",
            "Total amount of earned US money from donation: 138889.46\n",
            "\n",
            "Top 10 donators candidate:\n",
            "('862f85a29fa903de2e3aa58497e166d136874e49', 0.0008457114739982164)\n",
            "('86fc3699c144a81774bea74698ad3a9e74236238', 0.0007995817572346774)\n",
            "('0dd1fd96cc090ec6640159a00e09b5f909217b61', 0.0005689331734169819)\n",
            "('46ea0d73eabd6849f64834c0b7c8e815ffcb46b3', 0.0004920503121444168)\n",
            "('0d520b71c0fc01b9302d70ce21e15d14b051e039', 0.0004766737398899038)\n",
            "('66254d57898df10ba1eb18d2918ecdd6a1791bc5', 0.00046129716763539076)\n",
            "('06c9963119e361a50511a0f70e2a2743fe6c96d8', 0.0003997908786173387)\n",
            "('797ddaaf7384a292a743206be0fbb34e79261626', 0.00038441430636282565)\n",
            "('3f0079ef6c150027db58d398eb25f91e3b6ecf30', 0.00038441430636282565)\n",
            "('92ac90cc2632b848900c00019f63e4b062c15546', 0.0003536611618537996)\n",
            "\n",
            "Top Donator based of total number of donations: [('862f85a29fa903de2e3aa58497e166d136874e49', 55)]\n",
            "\n",
            "Total amount US money they donated: 137.34\n",
            "\n"
          ]
        }
      ],
      "source": [
        "the_analyzer_3000(\"superchats_2021-04.parquet\")"
      ]
    },
    {
      "cell_type": "code",
      "execution_count": null,
      "metadata": {
        "colab": {
          "base_uri": "https://localhost:8080/"
        },
        "id": "QDa-RnwolD_t",
        "outputId": "d78f3438-30ad-4086-a027-4ca5dd482cce"
      },
      "outputs": [
        {
          "name": "stdout",
          "output_type": "stream",
          "text": [
            "Data: {'superchats_2021-05.parquet'}\n",
            "\n",
            "Top 10 influencers candidate:\n",
            "('UCS9uQI-jC3DE0L4IpXyvr6w', 0.04514896132642259)\n",
            "('UCMwGHR0BTZuLsmjY_NT5Pwg', 0.043732900724528095)\n",
            "('UC1DCedRgGHBdm81E1llLhOQ', 0.034975322050675724)\n",
            "('UCoSrY_IQQVpmIRZ9Xf-y93g', 0.03365549857706532)\n",
            "('UCqm3BQLlJfvkTsX_hvm0UmA', 0.03155202991599874)\n",
            "('UCl_gCybOJRIgOXw6Qb4qJzQ', 0.030328443570672423)\n",
            "('UCvzGlP9oQwU--Y0r9id_jnA', 0.02910485722534611)\n",
            "('UCHsx4Hqa-1ORjQTh9TYDhww', 0.028981123774695135)\n",
            "('UCCzUftO8KOVkV4wQG1vkUvg', 0.02746882604451655)\n",
            "('UCFKOVgVbGmX65RxO3EtH3iw', 0.026355224988657767)\n",
            "\n",
            "Top influencers based of the number of earned donations: [('UCS9uQI-jC3DE0L4IpXyvr6w', 3284)]\n",
            "\n",
            "Total amount of earned US money from donation: 115477.02\n",
            "\n",
            "Top 10 donators candidate:\n",
            "('862f85a29fa903de2e3aa58497e166d136874e49', 0.0007561488650892944)\n",
            "('0dd1fd96cc090ec6640159a00e09b5f909217b61', 0.0007424007039058526)\n",
            "('66254d57898df10ba1eb18d2918ecdd6a1791bc5', 0.0005361782861542269)\n",
            "('46ea0d73eabd6849f64834c0b7c8e815ffcb46b3', 0.00048118564142046)\n",
            "('b147087f12cfa78598f2be78df9616d1bebbeaa4', 0.0004399411578701349)\n",
            "('609734695049cc4d1324aa9707c036f20459682a', 0.000384948513136368)\n",
            "('b8064b0cf8396670eae60a980ff3f4dbd8d7490d', 0.000384948513136368)\n",
            "('c28d774059ad51e0781db6e3e13b362f77b204c8', 0.000384948513136368)\n",
            "('14d9d0b7faca43aab75a9f082beba14e1fc0f3e6', 0.0003712003519529263)\n",
            "('519f31825bfe9a3aca9de62ee3655b7e856dcc10', 0.0003712003519529263)\n",
            "\n",
            "Top Donator based of total number of donations: [('862f85a29fa903de2e3aa58497e166d136874e49', 55)]\n",
            "\n",
            "Total amount US money they donated: 197.42\n",
            "\n"
          ]
        }
      ],
      "source": [
        "the_analyzer_3000(\"superchats_2021-05.parquet\")"
      ]
    },
    {
      "cell_type": "code",
      "execution_count": null,
      "metadata": {
        "colab": {
          "base_uri": "https://localhost:8080/"
        },
        "id": "CHfUXNielEa-",
        "outputId": "9645c66a-2980-44b1-9967-210186c41c7a"
      },
      "outputs": [
        {
          "name": "stdout",
          "output_type": "stream",
          "text": [
            "Data: {'superchats_2021-06.parquet'}\n",
            "\n",
            "Top 10 influencers candidate:\n",
            "('UCS9uQI-jC3DE0L4IpXyvr6w', 0.14224629069211828)\n",
            "('UC_a1ZYZ8ZTXpjg9xUY9sj8w', 0.059005868731545355)\n",
            "('UC6wvdADTJ88OfIbJYIpAaDA', 0.04779524375451794)\n",
            "('UCoSrY_IQQVpmIRZ9Xf-y93g', 0.0356412109925385)\n",
            "('UCqm3BQLlJfvkTsX_hvm0UmA', 0.03183082370526471)\n",
            "('UCCzUftO8KOVkV4wQG1vkUvg', 0.02580281552089587)\n",
            "('UC1DCedRgGHBdm81E1llLhOQ', 0.025655790931033217)\n",
            "('UCl_gCybOJRIgOXw6Qb4qJzQ', 0.022519266347296587)\n",
            "('UCuvk5PilcvDECU7dDZhQiEw', 0.021906663889535525)\n",
            "('UCAWSyEs_Io8MtpY3m-zqILA', 0.01990957987723447)\n",
            "\n",
            "Top influencers based of the number of earned donations: [('UCS9uQI-jC3DE0L4IpXyvr6w', 11610)]\n",
            "\n",
            "Total amount of earned US money from donation: 454049.04\n",
            "\n",
            "Top 10 donators candidate:\n",
            "('0dd1fd96cc090ec6640159a00e09b5f909217b61', 0.0004410737695879636)\n",
            "('c1b69e599e63ef6c16fdb024be82317376d043df', 0.0004410737695879636)\n",
            "('46ea0d73eabd6849f64834c0b7c8e815ffcb46b3', 0.0004043176221223)\n",
            "('9f96733f2d10804774f6043430a57c46a5c56910', 0.0003430573763461939)\n",
            "('eb3f1ed20bfd29555377905c9314c48037e824ed', 0.0003308053271909727)\n",
            "('bf9dc34c258c6db3ebbb3bd500be956f7f86834b', 0.0003308053271909727)\n",
            "('0d520b71c0fc01b9302d70ce21e15d14b051e039', 0.0003308053271909727)\n",
            "('066ef4465192e6e447df176a448fc64a5ce317a4', 0.0003308053271909727)\n",
            "('e113e97ab4cfc595e1fe82a844976da07dc63bb1', 0.0003063012288805303)\n",
            "('d1db2c1f6a2b53e744a6c5e70163735ab68a3ecd', 0.0002940491797253091)\n",
            "\n",
            "Top Donator based of total number of donations: [('0dd1fd96cc090ec6640159a00e09b5f909217b61', 36)]\n",
            "\n",
            "Total amount US money they donated: 60.8\n",
            "\n"
          ]
        }
      ],
      "source": [
        "the_analyzer_3000(\"superchats_2021-06.parquet\")"
      ]
    },
    {
      "cell_type": "code",
      "execution_count": null,
      "metadata": {
        "colab": {
          "base_uri": "https://localhost:8080/"
        },
        "id": "x0cTT2FllE5B",
        "outputId": "21fe9ede-34f9-4112-c2fe-a4a17b1b1757"
      },
      "outputs": [
        {
          "name": "stdout",
          "output_type": "stream",
          "text": [
            "Data: {'superchats_2021-07.parquet'}\n",
            "\n",
            "Top 10 influencers candidate:\n",
            "('UCS9uQI-jC3DE0L4IpXyvr6w', 0.10532294899572524)\n",
            "('UCmZ1Rbthn-6Jm_qOGjYsh5A', 0.043555659659190726)\n",
            "('UCqm3BQLlJfvkTsX_hvm0UmA', 0.03258183521695848)\n",
            "('UCZlDXzGoo7d44bwdNObFacg', 0.03182057738478655)\n",
            "('UCCzUftO8KOVkV4wQG1vkUvg', 0.03168003747730866)\n",
            "('UCspv01oxUFf_MTSipURRhkA', 0.028658429466533932)\n",
            "('UCl_gCybOJRIgOXw6Qb4qJzQ', 0.026737717397669378)\n",
            "('UCRm6lqtdxs_Qo6HeL-SRQ-w', 0.025531416525150785)\n",
            "('UC1DCedRgGHBdm81E1llLhOQ', 0.025437723253498856)\n",
            "('UC-hM6YJuNYVAmUWxeIr9FeA', 0.024044035837676406)\n",
            "\n",
            "Top influencers based of the number of earned donations: [('UCS9uQI-jC3DE0L4IpXyvr6w', 8993)]\n",
            "\n",
            "Total amount of earned US money from donation: 220902.95\n",
            "\n",
            "Top 10 donators candidate:\n",
            "('c1b69e599e63ef6c16fdb024be82317376d043df', 0.0004684663582596475)\n",
            "('5573cea30cb96fe62bf97302b260e868653345f8', 0.0004333313813901739)\n",
            "('2bd4e65a27f526d7cf342621c88902992db83bc8', 0.0004333313813901739)\n",
            "('0d520b71c0fc01b9302d70ce21e15d14b051e039', 0.00042161972243368273)\n",
            "('0dd1fd96cc090ec6640159a00e09b5f909217b61', 0.0003981964045207003)\n",
            "('f992c3c8c75cbdb035e7f99e38381cf402f04982', 0.0003630614276512268)\n",
            "('c28d774059ad51e0781db6e3e13b362f77b204c8', 0.0003513497686947356)\n",
            "('609734695049cc4d1324aa9707c036f20459682a', 0.0003396381097382444)\n",
            "('9f96733f2d10804774f6043430a57c46a5c56910', 0.00031621479182526203)\n",
            "('46e7b5c982b2548d82716642ab586b0e39d1c458', 0.00031621479182526203)\n",
            "\n",
            "Top Donator based of total number of donations: [('c1b69e599e63ef6c16fdb024be82317376d043df', 40)]\n",
            "\n",
            "Total amount US money they donated: 253.69\n",
            "\n"
          ]
        }
      ],
      "source": [
        "the_analyzer_3000(\"superchats_2021-07.parquet\")"
      ]
    },
    {
      "cell_type": "code",
      "execution_count": null,
      "metadata": {
        "colab": {
          "base_uri": "https://localhost:8080/"
        },
        "id": "se2HQgePlFOx",
        "outputId": "6c6db8ee-191a-44b3-cd63-b7e41604f7ae"
      },
      "outputs": [
        {
          "name": "stdout",
          "output_type": "stream",
          "text": [
            "Data: {'superchats_2021-08.parquet'}\n",
            "\n",
            "Top 10 influencers candidate:\n",
            "('UC-6rZgmxZSIbq786j3RD5ow', 0.03212190332859108)\n",
            "('UC9ruVYPv7yJmV0Rh0NKA-Lw', 0.031898507954051095)\n",
            "('UCgmFrRcyH7d1zR9sIVQhFow', 0.030087829655148085)\n",
            "('UCl_gCybOJRIgOXw6Qb4qJzQ', 0.0243618534761496)\n",
            "('UCFKOVgVbGmX65RxO3EtH3iw', 0.022692266992745527)\n",
            "('UCuep1JCrMvSxOGgGhBfJuYw', 0.022174930335916096)\n",
            "('UCp-5t9SrOQwXMU7iIjQfARg', 0.021445955955838262)\n",
            "('UC-hM6YJuNYVAmUWxeIr9FeA', 0.02057588976026149)\n",
            "('UCAWSyEs_Io8MtpY3m-zqILA', 0.020281948477972038)\n",
            "('UCCzUftO8KOVkV4wQG1vkUvg', 0.017965691173531174)\n",
            "\n",
            "Top influencers based of the number of earned donations: [('UC-6rZgmxZSIbq786j3RD5ow', 2732)]\n",
            "\n",
            "Total amount of earned US money from donation: 88058.29\n",
            "\n",
            "Top 10 donators candidate:\n",
            "('2bd4e65a27f526d7cf342621c88902992db83bc8', 0.0006937014262031016)\n",
            "('0d520b71c0fc01b9302d70ce21e15d14b051e039', 0.00042327544649680776)\n",
            "('0dd1fd96cc090ec6640159a00e09b5f909217b61', 0.0003762448413304958)\n",
            "('46ea0d73eabd6849f64834c0b7c8e815ffcb46b3', 0.0003762448413304958)\n",
            "('609734695049cc4d1324aa9707c036f20459682a', 0.0003762448413304958)\n",
            "('f992c3c8c75cbdb035e7f99e38381cf402f04982', 0.0003644871900389178)\n",
            "('5573cea30cb96fe62bf97302b260e868653345f8', 0.0003527295387473398)\n",
            "('c28d774059ad51e0781db6e3e13b362f77b204c8', 0.0003527295387473398)\n",
            "('5f867709736c3f77929c04b5e67689665874e217', 0.00034097188745576184)\n",
            "('453a85ca51dc6db59eaffc01f2185a8f6e832ef1', 0.00032921423616418384)\n",
            "\n",
            "Top Donator based of total number of donations: [('2bd4e65a27f526d7cf342621c88902992db83bc8', 59)]\n",
            "\n",
            "Total amount US money they donated: 149.3\n",
            "\n"
          ]
        }
      ],
      "source": [
        "the_analyzer_3000(\"superchats_2021-08.parquet\")"
      ]
    }
  ],
  "metadata": {
    "colab": {
      "provenance": []
    },
    "kernelspec": {
      "display_name": "Python 3",
      "name": "python3"
    },
    "language_info": {
      "name": "python"
    }
  },
  "nbformat": 4,
  "nbformat_minor": 0
}
